{
 "cells": [
  {
   "cell_type": "markdown",
   "metadata": {},
   "source": [
    "# Layerwise learning for Quantum Neural Nets"
   ]
  },
  {
   "cell_type": "code",
   "execution_count": 1,
   "metadata": {},
   "outputs": [],
   "source": [
    "import random\n",
    "import collections\n",
    "import matplotlib.pyplot as plt\n",
    "\n",
    "# Pennylane\n",
    "import pennylane as qml\n",
    "from pennylane import numpy as np\n",
    "\n",
    "# Pytorch\n",
    "import torch\n",
    "import torch.nn as nn\n",
    "import torch.optim as optim\n",
    "import torchvision\n",
    "import torchvision.datasets as datasets\n",
    "import torchvision.transforms as transforms\n",
    "from torch.utils.data.sampler import SubsetRandomSampler"
   ]
  },
  {
   "cell_type": "code",
   "execution_count": 2,
   "metadata": {},
   "outputs": [
    {
     "name": "stderr",
     "output_type": "stream",
     "text": [
      "/home/felipeoyarce/Desktop/layerwise-learning/.venv/lib/python3.7/site-packages/torch/cuda/__init__.py:52: UserWarning: CUDA initialization: Found no NVIDIA driver on your system. Please check that you have an NVIDIA GPU and installed a driver from http://www.nvidia.com/Download/index.aspx (Triggered internally at  /pytorch/c10/cuda/CUDAFunctions.cpp:100.)\n",
      "  return torch._C._cuda_getDeviceCount() > 0\n"
     ]
    },
    {
     "data": {
      "text/plain": [
       "False"
      ]
     },
     "execution_count": 2,
     "metadata": {},
     "output_type": "execute_result"
    }
   ],
   "source": [
    "torch.cuda.is_available()"
   ]
  },
  {
   "cell_type": "markdown",
   "metadata": {},
   "source": [
    "### Data pre-processing"
   ]
  },
  {
   "cell_type": "code",
   "execution_count": 3,
   "metadata": {},
   "outputs": [],
   "source": [
    "data_transforms = transforms.Compose([transforms.Resize(3), #resize to a 2x2 image\n",
    "                                      transforms.ToTensor(), #convert to tensor\n",
    "                                      transforms.Normalize(\n",
    "                                     (0.1307,), (0.3081,)),\n",
    "                                      transforms.Lambda(lambda x: torch.flatten(x)) #obtain a one dimensional vector\n",
    "                                     ])"
   ]
  },
  {
   "cell_type": "code",
   "execution_count": 4,
   "metadata": {},
   "outputs": [
    {
     "name": "stdout",
     "output_type": "stream",
     "text": [
      "1968\n"
     ]
    },
    {
     "name": "stderr",
     "output_type": "stream",
     "text": [
      "/home/felipeoyarce/Desktop/layerwise-learning/.venv/lib/python3.7/site-packages/ipykernel_launcher.py:17: UserWarning: This overload of nonzero is deprecated:\n",
      "\tnonzero()\n",
      "Consider using one of the following signatures instead:\n",
      "\tnonzero(*, bool as_tuple) (Triggered internally at  /pytorch/torch/csrc/utils/python_arg_parser.cpp:882.)\n"
     ]
    }
   ],
   "source": [
    "batch_size = 128\n",
    "train_set = datasets.MNIST(root='./data', train=True, download=True, transform=data_transforms)\n",
    "test_set = datasets.MNIST(root='./data', train=False, download=True, transform=data_transforms)\n",
    "\n",
    "# Change labels of digits '3' and '6' to be 0 and 1, respectively.\n",
    "train_set.targets[train_set.targets == 1] = 10\n",
    "train_set.targets[train_set.targets == 0] = 10\n",
    "train_set.targets[train_set.targets == 3] = 1\n",
    "train_set.targets[train_set.targets == 6] = -1\n",
    "\n",
    "test_set.targets[test_set.targets == 1] = 10\n",
    "test_set.targets[test_set.targets == 0] = 10\n",
    "test_set.targets[test_set.targets == 3] = 1\n",
    "test_set.targets[test_set.targets == 6] = -1\n",
    "\n",
    "# Filter to just images of '3's and '6's\n",
    "subset_indices_train = ((train_set.targets == -1) + (train_set.targets == 1)).nonzero().view(-1)\n",
    "subset_indices_test = ((test_set.targets == -1) + (test_set.targets == 1)).nonzero().view(-1)\n",
    "\n",
    "print(len(subset_indices_test))\n",
    "\n",
    "# Select just a subset of the training set\n",
    "NUM_EXAMPLES = 128\n",
    "subset_indices_train = subset_indices_train[:NUM_EXAMPLES]\n",
    "\n",
    "# DataLoaders\n",
    "train_loader = torch.utils.data.DataLoader(train_set, batch_size=batch_size, shuffle=False,\n",
    "                                          sampler=SubsetRandomSampler(subset_indices_train))\n",
    "test_loader = torch.utils.data.DataLoader(test_set, batch_size=batch_size, shuffle=False,\n",
    "                                         sampler=SubsetRandomSampler(subset_indices_test))"
   ]
  },
  {
   "cell_type": "code",
   "execution_count": 5,
   "metadata": {},
   "outputs": [
    {
     "name": "stdout",
     "output_type": "stream",
     "text": [
      "tensor([[-0.3351,  0.5177,  0.1995,  ...,  0.3013,  0.5686, -0.2842],\n",
      "        [-0.3224,  0.1995, -0.2969,  ..., -0.3224,  0.3649, -0.1696],\n",
      "        [-0.1824,  0.0976, -0.3860,  ..., -0.3351,  0.1740, -0.1951],\n",
      "        ...,\n",
      "        [-0.3478,  0.6068, -0.2206,  ..., -0.1187,  0.4922, -0.2842],\n",
      "        [-0.0042,  0.2886, -0.3606,  ..., -0.2969,  0.3777,  0.0085],\n",
      "        [-0.3224,  0.2758, -0.2842,  ..., -0.2587,  0.3904, -0.1187]])\n",
      "tensor([ 1, -1, -1, -1,  1,  1, -1, -1,  1,  1,  1,  1,  1, -1,  1,  1,  1, -1,\n",
      "        -1, -1,  1,  1,  1, -1,  1,  1,  1,  1,  1,  1, -1, -1,  1,  1, -1,  1,\n",
      "        -1,  1,  1, -1, -1,  1, -1, -1, -1, -1,  1, -1, -1,  1, -1, -1,  1,  1,\n",
      "        -1, -1,  1, -1,  1,  1, -1,  1, -1, -1, -1,  1, -1,  1, -1,  1, -1,  1,\n",
      "         1, -1,  1,  1,  1, -1, -1, -1, -1,  1,  1, -1,  1, -1, -1,  1,  1, -1,\n",
      "         1, -1,  1, -1,  1, -1,  1,  1, -1,  1, -1, -1,  1,  1,  1, -1,  1,  1,\n",
      "        -1,  1, -1, -1,  1, -1, -1, -1, -1, -1, -1,  1, -1, -1,  1,  1,  1,  1,\n",
      "         1, -1])\n"
     ]
    }
   ],
   "source": [
    "for x, y in train_loader:\n",
    "    print(x)\n",
    "    print(y)"
   ]
  },
  {
   "cell_type": "code",
   "execution_count": 6,
   "metadata": {},
   "outputs": [],
   "source": [
    "def set_random_gates(n_qubits: int):\n",
    "    \n",
    "    gate_set = [qml.RX, qml.RY, qml.RZ]\n",
    "    chosen_gates = []\n",
    "    for i in range(n_qubits):\n",
    "        chosen_gate = random.choice(gate_set)\n",
    "        chosen_gates.append(chosen_gate)\n",
    "    return chosen_gates"
   ]
  },
  {
   "cell_type": "markdown",
   "metadata": {},
   "source": [
    "### Variational circuit\n",
    "\n",
    "We first define some quantum layers that will compose the quantum circuit."
   ]
  },
  {
   "cell_type": "code",
   "execution_count": 7,
   "metadata": {},
   "outputs": [],
   "source": [
    "n_qubits = 9\n",
    "n_layer_steps = 2\n",
    "n_layers_to_add = 2\n",
    "batch_size = 128\n",
    "epochs = 20"
   ]
  },
  {
   "cell_type": "code",
   "execution_count": 8,
   "metadata": {},
   "outputs": [],
   "source": [
    "dev = qml.device(\"default.qubit\", wires=n_qubits)"
   ]
  },
  {
   "cell_type": "code",
   "execution_count": 9,
   "metadata": {},
   "outputs": [],
   "source": [
    "def total_elements(array_list):\n",
    "    flattened = [val for sublist in array_list for val in sublist]\n",
    "    return len(flattened)"
   ]
  },
  {
   "cell_type": "markdown",
   "metadata": {},
   "source": [
    "## Phase I"
   ]
  },
  {
   "cell_type": "code",
   "execution_count": 10,
   "metadata": {},
   "outputs": [],
   "source": [
    "def apply_layer(gates, weights):\n",
    "    \n",
    "    for i in range(n_qubits): \n",
    "        gates[i](weights[i], wires = i)\n",
    "    \n",
    "    tuples = [(i,i+1) for i in range(n_qubits-1)]\n",
    "\n",
    "    for tup in tuples:\n",
    "        qml.CZ(wires=[tup[0], tup[1]])\n",
    "        \n",
    "#template for non-trainable part of the quantum circuit\n",
    "def frozen_layers(frozen_layer_gates, frozen_layer_weights): \n",
    "\n",
    "    for i in range(len(frozen_layer_gates)):\n",
    "        apply_layer(frozen_layer_gates[i], frozen_layer_weights[i])\n",
    "\n",
    "@qml.qnode(dev, interface=\"torch\")\n",
    "def quantum_net(inputs, new_weights):\n",
    "    \n",
    "    wirelist = [i for i in range(n_qubits)]\n",
    "\n",
    "    #Encode the data with Angle Embedding\n",
    "    qml.templates.AngleEmbedding(inputs, wires=wirelist, rotation='X')\n",
    "    \n",
    "    #apply frozen layers\n",
    "    frozen_layers(layer_gates, layer_weights)\n",
    "\n",
    "    for i in range(n_layers_to_add):\n",
    "        apply_layer(new_gates[i], new_weights[i])\n",
    "        \n",
    "    # Expectation value of the last qubit\n",
    "    return qml.expval(qml.PauliZ(n_qubits-1))"
   ]
  },
  {
   "cell_type": "code",
   "execution_count": null,
   "metadata": {
    "scrolled": false
   },
   "outputs": [
    {
     "name": "stdout",
     "output_type": "stream",
     "text": [
      "Phase I step: 1\n",
      "Average loss over epoch 1: 0.5145\n",
      "Average loss over epoch 2: 0.5144\n",
      "Average loss over epoch 3: 0.5143\n",
      "Average loss over epoch 4: 0.5142\n",
      "Average loss over epoch 5: 0.5141\n",
      "Average loss over epoch 6: 0.5139\n",
      "Average loss over epoch 7: 0.5138\n",
      "Average loss over epoch 8: 0.5137\n",
      "Average loss over epoch 9: 0.5135\n",
      "Average loss over epoch 10: 0.5134\n",
      "Average loss over epoch 11: 0.5132\n",
      "Average loss over epoch 12: 0.5131\n",
      "Average loss over epoch 13: 0.5129\n"
     ]
    }
   ],
   "source": [
    "layer_gates = []\n",
    "layer_weights = []\n",
    "sigmoid = nn.Sigmoid()\n",
    "for step in range(n_layer_steps):\n",
    "    \n",
    "    print(f\"Phase I step: {step+1}\")\n",
    "    new_gates = [set_random_gates(n_qubits) for i in range(n_layers_to_add)]\n",
    "    \n",
    "    # Define shape of the weights\n",
    "    weight_shapes = {\"new_weights\": (n_layers_to_add, n_qubits)}\n",
    "    \n",
    "    # Quantum net as a TorchLayer\n",
    "    qlayer = qml.qnn.TorchLayer(quantum_net, weight_shapes, init_method = nn.init.zeros_)\n",
    "    \n",
    "    # Create Sequential Model\n",
    "    model = torch.nn.Sequential(qlayer)\n",
    "    \n",
    "    # Optimization and loss\n",
    "    opt = optim.Adam(model.parameters(), lr=0.01)\n",
    "\n",
    "    loss = nn.HingeEmbeddingLoss()\n",
    "    \n",
    "    batches = NUM_EXAMPLES // batch_size\n",
    "    for epoch in range(epochs):\n",
    "        running_loss = 0\n",
    "        for x, y in train_loader:\n",
    "            opt.zero_grad()\n",
    "            y = y.to(torch.float32)\n",
    "            loss_evaluated = loss(model(x), y)\n",
    "            loss_evaluated.backward()\n",
    "            running_loss += loss_evaluated\n",
    "\n",
    "            opt.step()\n",
    "        avg_loss = running_loss / batches\n",
    "        print(\"Average loss over epoch {}: {:.4f}\".format(epoch + 1, avg_loss))\n",
    "    \n",
    "    for param in model.parameters():\n",
    "        new_weights = param.data\n",
    "    new_weights = new_weights.tolist()\n",
    "    print(f\"Trained parameters: {total_elements(new_weights)}\")\n",
    "\n",
    "    layer_gates += new_gates\n",
    "    layer_weights += new_weights\n",
    "    print(f\"Layer weights: {total_elements(layer_weights)}\")\n",
    "    print(\"\")"
   ]
  },
  {
   "cell_type": "markdown",
   "metadata": {},
   "source": [
    "## Phase II"
   ]
  },
  {
   "cell_type": "code",
   "execution_count": null,
   "metadata": {},
   "outputs": [],
   "source": [
    "partition_percentage = 0.5\n",
    "partition_size = int(n_layer_steps*n_layers_to_add*partition_percentage)\n",
    "n_partition_weights = partition_size*n_qubits\n",
    "n_sweeps = 2"
   ]
  },
  {
   "cell_type": "code",
   "execution_count": null,
   "metadata": {},
   "outputs": [],
   "source": [
    "@qml.qnode(dev, interface=\"torch\")\n",
    "def train_partition(inputs, partition_weights):\n",
    "    \n",
    "    wirelist = [i for i in range(n_qubits)]\n",
    "\n",
    "    #Encode the data with Angle Embedding\n",
    "    qml.templates.AngleEmbedding(inputs, wires=wirelist, rotation='X')\n",
    "    \n",
    "    if partition == 1:\n",
    "        # Apply trainable partition first\n",
    "        for i in range(len(layer_gates[:partition_size])):\n",
    "            apply_layer(layer_gates[:partition_size][i], partition_weights[i])\n",
    "        \n",
    "        #Apply non-trainable partition\n",
    "        for i in range(len(layer_gates[partition_size:])):\n",
    "            apply_layer(layer_gates[partition_size:][i], layer_weights[partition_size:][i])\n",
    "    \n",
    "    elif partition == 2:\n",
    "        # Apply non-trainable partition first\n",
    "        for i in range(len(layer_gates[:partition_size])):\n",
    "            apply_layer(layer_gates[:partition_size][i], layer_weights[:partition_size][i])\n",
    "        \n",
    "        # Apply trainable partition\n",
    "        for i in range(len(layer_gates[partition_size:])):\n",
    "            apply_layer(layer_gates[partition_size:][i], partition_weights[i])\n",
    "    \n",
    "    # Expectation value of the last qubit\n",
    "    return qml.expval(qml.PauliZ(n_qubits-1))"
   ]
  },
  {
   "cell_type": "code",
   "execution_count": null,
   "metadata": {},
   "outputs": [],
   "source": [
    "for sweep in range(n_sweeps):\n",
    "    \n",
    "    partition = 1\n",
    "    print(f\"Sweep: {sweep+1}, partition: {partition}\")\n",
    "    trainable_weights = layer_weights[:partition_size]\n",
    "    \n",
    "    # Define shape of the weights\n",
    "    weight_shapes = {\"partition_weights\": (len(trainable_weights), n_qubits)}\n",
    "    \n",
    "    # Quantum net as a TorchLayer\n",
    "    qlayer = qml.qnn.TorchLayer(train_partition, weight_shapes, init_method = nn.init.zeros_)\n",
    "    \n",
    "    init_weights = nn.Parameter(torch.tensor(trainable_weights))\n",
    "    \n",
    "    # Create Sequential Model\n",
    "    model = torch.nn.Sequential(qlayer)\n",
    "    \n",
    "    # Edit model parameters to be init_weights\n",
    "    old_params = {}\n",
    "    for name, params in model.named_parameters():\n",
    "        old_params[name] = params.clone()\n",
    "    \n",
    "    old_params[\"0.partition_weights\"] = init_weights\n",
    "    \n",
    "    for name, params in model.named_parameters():\n",
    "        params.data.copy_(old_params[name])\n",
    "\n",
    "    # Optimization and loss\n",
    "    opt = optim.Adam(model.parameters(), lr=0.01)\n",
    "\n",
    "    loss = nn.HingeEmbeddingLoss()\n",
    "    \n",
    "    batches = NUM_EXAMPLES // batch_size\n",
    "    for epoch in range(epochs):\n",
    "        running_loss = 0\n",
    "        for x, y in train_loader:\n",
    "            opt.zero_grad()\n",
    "            y = y.to(torch.float32)\n",
    "            loss_evaluated = loss(model(x), y)\n",
    "            loss_evaluated.backward()\n",
    "            running_loss += loss_evaluated\n",
    "\n",
    "            opt.step()\n",
    "        avg_loss = running_loss / batches\n",
    "        print(\"Average loss over epoch {}: {:.4f}\".format(epoch + 1, avg_loss))\n",
    "    \n",
    "    for param in model.parameters():\n",
    "        trained_weights = param.data\n",
    "    trained_weights = trained_weights.tolist()\n",
    "    print(f\"Trained parameters: {total_elements(trained_weights)}\")\n",
    "\n",
    "    layer_weights[:partition_size] = trained_weights\n",
    "    \n",
    "    partition = 2\n",
    "    print(f\"Sweep: {sweep+1}, partition: {partition}\")\n",
    "    trainable_weights = layer_weights[partition_size:]\n",
    "    \n",
    "    # Define shape of the weights\n",
    "    weight_shapes = {\"partition_weights\": (len(trainable_weights), n_qubits)}\n",
    "\n",
    "    # Quantum net as a TorchLayer\n",
    "    qlayer = qml.qnn.TorchLayer(train_partition, weight_shapes, init_method = nn.init.zeros_)\n",
    "    \n",
    "    init_weights = nn.Parameter(torch.tensor(trainable_weights))\n",
    "\n",
    "    # Create Sequential Model\n",
    "    model = torch.nn.Sequential(qlayer)\n",
    "    \n",
    "    # Edit model parameters to be init_weights\n",
    "    old_params = {}\n",
    "    for name, params in model.named_parameters():\n",
    "        old_params[name] = params.clone()\n",
    "    \n",
    "    old_params[\"0.partition_weights\"] = init_weights\n",
    "    \n",
    "    for name, params in model.named_parameters():\n",
    "        params.data.copy_(old_params[name])\n",
    "    \n",
    "    # Optimization and loss\n",
    "    opt = optim.Adam(model.parameters(), lr=0.01)\n",
    "\n",
    "    loss = nn.HingeEmbeddingLoss()\n",
    "    \n",
    "    batches = NUM_EXAMPLES // batch_size\n",
    "    for epoch in range(epochs):\n",
    "        running_loss = 0\n",
    "        for x, y in train_loader:\n",
    "            opt.zero_grad()\n",
    "            y = y.to(torch.float32)\n",
    "            loss_evaluated = loss(model(x), y)\n",
    "            loss_evaluated.backward()\n",
    "            running_loss += loss_evaluated\n",
    "\n",
    "            opt.step()\n",
    "        avg_loss = running_loss / batches\n",
    "        print(\"Average loss over epoch {}: {:.4f}\".format(epoch + 1, avg_loss))\n",
    "    \n",
    "    for param in model.parameters():\n",
    "        trained_weights = param.data\n",
    "    trained_weights = trained_weights.tolist()\n",
    "    print(f\"Trained parameters: {total_elements(trained_weights)}\")\n",
    "\n",
    "    layer_weights[partition_size:] = trained_weights"
   ]
  },
  {
   "cell_type": "code",
   "execution_count": null,
   "metadata": {},
   "outputs": [],
   "source": [
    "for x, y in train_loader:\n",
    "    print(model(x))\n",
    "    print(y)"
   ]
  },
  {
   "cell_type": "code",
   "execution_count": null,
   "metadata": {},
   "outputs": [],
   "source": []
  }
 ],
 "metadata": {
  "kernelspec": {
   "display_name": "Python 3",
   "language": "python",
   "name": "python3"
  },
  "language_info": {
   "codemirror_mode": {
    "name": "ipython",
    "version": 3
   },
   "file_extension": ".py",
   "mimetype": "text/x-python",
   "name": "python",
   "nbconvert_exporter": "python",
   "pygments_lexer": "ipython3",
   "version": "3.7.9"
  }
 },
 "nbformat": 4,
 "nbformat_minor": 4
}
