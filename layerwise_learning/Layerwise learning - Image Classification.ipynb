{
 "cells": [
  {
   "cell_type": "code",
   "execution_count": 5,
   "metadata": {},
   "outputs": [],
   "source": [
    "import random\n",
    "import collections\n",
    "\n",
    "# Pennylane\n",
    "import pennylane as qml\n",
    "from pennylane import numpy as np\n",
    " \n",
    "# Tensorflow\n",
    "import tensorflow as tf"
   ]
  },
  {
   "cell_type": "code",
   "execution_count": 6,
   "metadata": {},
   "outputs": [],
   "source": [
    "def reduce_image(x):\n",
    "    x = tf.reshape(x, [1, 28, 28, 1])\n",
    "    x = tf.image.resize(x, [4, 4])\n",
    "    x = tf.reshape(x, [4, 4])\n",
    "    x = x / 255\n",
    "    return x.numpy()\n",
    "\n",
    "def remove_contradicting(xs, ys):\n",
    "    mapping = collections.defaultdict(set)\n",
    "    for x, y in zip(xs, ys):\n",
    "        mapping[str(x)].add(y)\n",
    "\n",
    "    return zip(*((x, y) for x, y in zip(xs, ys) if len(mapping[str(x)]) == 1))\n",
    "\n",
    "#Simple implementation of encoding image in a Pennylane's circuit\n",
    "def convert_to_circuit(image):\n",
    "    \n",
    "    values = np.ndarray.flatten(image)\n",
    "    for i, value in enumerate(values):\n",
    "        if value > 0.5:\n",
    "            qml.PauliX(wires = i)"
   ]
  },
  {
   "cell_type": "code",
   "execution_count": 7,
   "metadata": {},
   "outputs": [
    {
     "name": "stdout",
     "output_type": "stream",
     "text": [
      "Number of original training examples: 60000\n",
      "Number of original test examples: 60000\n",
      "Number of filtered training examples: 11520\n",
      "Number of filtered test examples: 1906\n"
     ]
    }
   ],
   "source": [
    "(x_train, y_train), (x_test, y_test) = tf.keras.datasets.mnist.load_data()\n",
    "\n",
    "print(\"Number of original training examples:\", len(x_train))\n",
    "print(\"Number of original test examples:\", len(x_train))\n",
    "\n",
    "x_train, y_train = zip(*((x, y) for x, y in zip(x_train, y_train) if y in [3, 6]))\n",
    "x_test, y_test = zip(*((x, y) for x, y in zip(x_test, y_test) if y in [3, 6]))\n",
    "\n",
    "x_train = [reduce_image(x) for x in x_train]\n",
    "x_test = [reduce_image(x) for x in x_test]\n",
    "\n",
    "x_train, y_train = remove_contradicting(x_train, y_train)\n",
    "x_test, y_test = remove_contradicting(x_test, y_test)\n",
    "\n",
    "print(\"Number of filtered training examples:\", len(x_train))\n",
    "print(\"Number of filtered test examples:\", len(x_test))"
   ]
  },
  {
   "cell_type": "code",
   "execution_count": null,
   "metadata": {},
   "outputs": [],
   "source": [
    "# Maybe is better here to start implementing Complete-depth learning using Pytorch interface."
   ]
  }
 ],
 "metadata": {
  "kernelspec": {
   "display_name": "Python 3",
   "language": "python",
   "name": "python3"
  },
  "language_info": {
   "codemirror_mode": {
    "name": "ipython",
    "version": 3
   },
   "file_extension": ".py",
   "mimetype": "text/x-python",
   "name": "python",
   "nbconvert_exporter": "python",
   "pygments_lexer": "ipython3",
   "version": "3.6.8"
  }
 },
 "nbformat": 4,
 "nbformat_minor": 4
}
