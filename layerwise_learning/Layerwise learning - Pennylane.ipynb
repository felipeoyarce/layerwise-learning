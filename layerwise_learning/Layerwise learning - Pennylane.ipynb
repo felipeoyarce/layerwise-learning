{
 "cells": [
  {
   "cell_type": "code",
   "execution_count": 1,
   "metadata": {},
   "outputs": [],
   "source": [
    "import random\n",
    "\n",
    "#Pennylane\n",
    "import pennylane as qml\n",
    "from pennylane import numpy as np\n",
    "\n",
    "#PyTorch\n",
    "import torch\n",
    "import torchvision\n",
    "from torchvision import datasets, transforms"
   ]
  },
  {
   "cell_type": "code",
   "execution_count": 2,
   "metadata": {},
   "outputs": [],
   "source": [
    "dev = qml.device('default.qubit', wires = 6)\n",
    "n_qubits = 6\n",
    "n_layer_steps = 5\n",
    "n_layers_to_add = 2\n",
    "dim = 2**(n_qubits)"
   ]
  },
  {
   "cell_type": "code",
   "execution_count": 3,
   "metadata": {},
   "outputs": [],
   "source": [
    "def set_random_gates(n_qubits: int):\n",
    "    \n",
    "    gate_set = [qml.RX, qml.RY, qml.RZ]\n",
    "    chosen_gates = []\n",
    "    for i in range(n_qubits):\n",
    "        chosen_gate = random.choice(gate_set)\n",
    "        chosen_gates.append(chosen_gate)\n",
    "    return chosen_gates\n",
    "\n",
    "def norm(complex_vector: np.array) -> float:\n",
    "    \"\"\"Returns the norm of a complex vector.\n",
    "    \n",
    "    Args:\n",
    "       complex_vector (np.arrray of shape (dim,)):\n",
    "           complex vector with an arbitrary dimension.\n",
    "           \n",
    "       \n",
    "    Returns:\n",
    "        norm (float): norm or magnitude of the complex vector.\n",
    "            \n",
    "    \"\"\"\n",
    "    \n",
    "    #define the norm of a complex vector here\n",
    "    norm = np.sqrt(sum([np.square(np.absolute(complex_vector[i])) for i in range(complex_vector.shape[0])]))\n",
    "    \n",
    "    return norm\n",
    "\n",
    "def random_quantum_state(dim: int, amplitude_type: str = 'complex') -> np.array:\n",
    "    \"\"\"Creates a normalized random real or complex vector of a defined\n",
    "    dimension.\n",
    "    \n",
    "    Args:\n",
    "        dim (int): integer number specifying the dimension\n",
    "            of the vector that we want to generate.\n",
    "            \n",
    "        amplitude_type (str): string indicating if you want to create a\n",
    "            vector with 'complex' or 'real' number amplitudes.\n",
    "            \n",
    "    Returns:\n",
    "        (np.array): normalized real or complex vector of the given\n",
    "            dimension.\n",
    "    \"\"\"\n",
    "    #generate an unnormalized complex vector of dimension = dim\n",
    "    if amplitude_type == 'complex':\n",
    "        Z = np.random.random(dim) + np.random.random(dim)*1j\n",
    "    \n",
    "    #generate an unnormalized real vector of dimension = dim\n",
    "    elif amplitude_type == 'real':\n",
    "        Z = np.random.random(dim)\n",
    "    \n",
    "    #normalize the complex vector Z\n",
    "    Z /= norm(Z)\n",
    "    \n",
    "    return Z\n",
    "\n",
    "def density_matrix(target_vector: np.array) -> np.array:\n",
    "    \"\"\"Return the density matrix of a pure state.\n",
    "    \n",
    "    Arguments:\n",
    "        target_vector (np.array): Complex vector array.\n",
    "        \n",
    "    Returns:\n",
    "        (np.array): Density matrix of shape (dim, dim),\n",
    "            where dim is the dimension of the target_vector.\n",
    "    \"\"\"\n",
    "    target_vector_reshape = target_vector.reshape((target_vector.shape[0],1))\n",
    "    density_matrix = target_vector_reshape @ np.transpose(np.conjugate(target_vector_reshape))\n",
    "    \n",
    "    return density_matrix"
   ]
  },
  {
   "cell_type": "code",
   "execution_count": 4,
   "metadata": {},
   "outputs": [],
   "source": [
    "target_vector = random_quantum_state(dim)\n",
    "density_matrix = density_matrix(target_vector)"
   ]
  },
  {
   "cell_type": "markdown",
   "metadata": {},
   "source": [
    "### Templates for Phase I"
   ]
  },
  {
   "cell_type": "code",
   "execution_count": 5,
   "metadata": {},
   "outputs": [],
   "source": [
    "@qml.template\n",
    "def apply_layer(gates, weights):\n",
    "    \n",
    "    for i in range(n_qubits):\n",
    "        gates[i](weights[i], wires = i)\n",
    "    \n",
    "    tuples = [(i,i+1) for i in range(n_qubits-1)]\n",
    "\n",
    "    for tup in tuples:\n",
    "        qml.CZ(wires=[tup[0], tup[1]])\n",
    "        \n",
    "@qml.template #template for non-trainable part of the quantum circuit\n",
    "def frozen_layers(frozen_layer_gates, frozen_layer_weights): \n",
    "    for i in range(len(frozen_layer_gates)):\n",
    "        apply_layer(frozen_layer_gates[i], frozen_layer_weights[i])\n",
    "\n",
    "@qml.qnode(dev)\n",
    "def trainable_circuit(params):\n",
    "    \n",
    "    #apply frozen layers\n",
    "    frozen_layers(layer_gates, layer_weights)\n",
    "    \n",
    "    #apply trainable layers\n",
    "    new_weights = []\n",
    "    for i in range(n_layers_to_add):\n",
    "        new_weights.append(params[int(i*n_qubits):int((i+1)*n_qubits)])\n",
    "\n",
    "    for i in range(n_layers_to_add):\n",
    "        apply_layer(new_gates[i], new_weights[i])\n",
    "        \n",
    "    wirelist = [i for i in range(n_qubits)]\n",
    "    return qml.expval(qml.Hermitian(density_matrix, wirelist))"
   ]
  },
  {
   "cell_type": "code",
   "execution_count": 6,
   "metadata": {},
   "outputs": [],
   "source": [
    "def cost(x):\n",
    "    \n",
    "    return (1.0 - trainable_circuit(x))"
   ]
  },
  {
   "cell_type": "code",
   "execution_count": 7,
   "metadata": {},
   "outputs": [
    {
     "data": {
      "text/plain": [
       "0.002866371047634625"
      ]
     },
     "execution_count": 7,
     "metadata": {},
     "output_type": "execute_result"
    }
   ],
   "source": [
    "layer_gates = []\n",
    "layer_weights = []\n",
    "n_layers = 2\n",
    "for i in range(n_layers):\n",
    "    layer_gates.append(set_random_gates(n_qubits))\n",
    "    layer_weights.append(np.random.rand(n_qubits)*2*np.pi)\n",
    "    \n",
    "new_gates = [set_random_gates(n_qubits) for i in range(n_layers_to_add)]\n",
    "new_weights = np.random.rand(n_qubits*n_layers_to_add)*2*np.pi\n",
    "\n",
    "trainable_circuit(new_weights)"
   ]
  },
  {
   "cell_type": "code",
   "execution_count": 8,
   "metadata": {},
   "outputs": [
    {
     "data": {
      "text/plain": [
       "0.9971336289523653"
      ]
     },
     "execution_count": 8,
     "metadata": {},
     "output_type": "execute_result"
    }
   ],
   "source": [
    "cost(new_weights)"
   ]
  },
  {
   "cell_type": "code",
   "execution_count": 9,
   "metadata": {
    "scrolled": false
   },
   "outputs": [
    {
     "name": "stdout",
     "output_type": "stream",
     "text": [
      "0\n",
      "[]\n",
      "0.8918396847397787\n",
      "1\n",
      "[array([ 4.18669854e-01, -5.55111512e-18, -3.73819882e-01,  1.11985651e-01,\n",
      "        1.32764484e+00, -1.24900090e-17]), array([ 0.41866985,  0.24019441, -0.29235326,  0.02233171, -0.25297079,\n",
      "        0.33419921])]\n",
      "0.7469242574581849\n",
      "2\n",
      "[array([ 4.18669854e-01, -5.55111512e-18, -3.73819882e-01,  1.11985651e-01,\n",
      "        1.32764484e+00, -1.24900090e-17]), array([ 0.41866985,  0.24019441, -0.29235326,  0.02233171, -0.25297079,\n",
      "        0.33419921]), array([0.01596082, 0.12185932, 1.38048505, 0.98456749, 0.92464747,\n",
      "       0.4775969 ]), array([-0.00099299,  0.12185932, -0.13183405,  0.20710526, -0.07315151,\n",
      "       -0.62696493])]\n",
      "0.6363185617684319\n",
      "3\n",
      "[array([ 4.18669854e-01, -5.55111512e-18, -3.73819882e-01,  1.11985651e-01,\n",
      "        1.32764484e+00, -1.24900090e-17]), array([ 0.41866985,  0.24019441, -0.29235326,  0.02233171, -0.25297079,\n",
      "        0.33419921]), array([0.01596082, 0.12185932, 1.38048505, 0.98456749, 0.92464747,\n",
      "       0.4775969 ]), array([-0.00099299,  0.12185932, -0.13183405,  0.20710526, -0.07315151,\n",
      "       -0.62696493]), array([ 0.20510186,  0.17237915,  0.1252083 , -0.01308636, -0.44206671,\n",
      "        1.30411323]), array([ 0.41116852,  0.05778992, -0.06289354, -0.01308636, -0.19265875,\n",
      "        0.809346  ])]\n",
      "0.3298949145910802\n",
      "4\n",
      "[array([ 4.18669854e-01, -5.55111512e-18, -3.73819882e-01,  1.11985651e-01,\n",
      "        1.32764484e+00, -1.24900090e-17]), array([ 0.41866985,  0.24019441, -0.29235326,  0.02233171, -0.25297079,\n",
      "        0.33419921]), array([0.01596082, 0.12185932, 1.38048505, 0.98456749, 0.92464747,\n",
      "       0.4775969 ]), array([-0.00099299,  0.12185932, -0.13183405,  0.20710526, -0.07315151,\n",
      "       -0.62696493]), array([ 0.20510186,  0.17237915,  0.1252083 , -0.01308636, -0.44206671,\n",
      "        1.30411323]), array([ 0.41116852,  0.05778992, -0.06289354, -0.01308636, -0.19265875,\n",
      "        0.809346  ]), array([ 0.23963013,  1.51675448,  0.00901734,  0.03133111, -0.34338105,\n",
      "        0.07685013]), array([ 0.11748534,  1.47278687, -0.01392713,  0.03133111, -0.10366492,\n",
      "        0.07685013])]\n",
      "0.2979783925725529\n"
     ]
    }
   ],
   "source": [
    "layer_gates = []\n",
    "layer_weights = []\n",
    "cost_list = []\n",
    "for step in range(n_layer_steps):\n",
    "    \n",
    "    new_gates = [set_random_gates(n_qubits) for i in range(n_layers_to_add)]\n",
    "    init_params = np.zeros(n_qubits*n_layers_to_add)\n",
    "    \n",
    "    opt = qml.GradientDescentOptimizer(stepsize = 0.4)\n",
    "\n",
    "    opt_steps = 100\n",
    "\n",
    "    params = init_params\n",
    "    \n",
    "    for i in range(opt_steps):\n",
    "\n",
    "        params = opt.step(cost, params)\n",
    "    \n",
    "    \n",
    "    print(step)\n",
    "    print(layer_weights)\n",
    "    print(cost(params))\n",
    "    cost_list.append(cost(params))\n",
    "    \n",
    "    trained_weights = [params[int(i*n_qubits):int((i+1)*n_qubits)] for i in range(n_layers_to_add)]\n",
    "    \n",
    "    layer_gates += new_gates\n",
    "    layer_weights += trained_weights"
   ]
  }
 ],
 "metadata": {
  "kernelspec": {
   "display_name": "Python 3",
   "language": "python",
   "name": "python3"
  },
  "language_info": {
   "codemirror_mode": {
    "name": "ipython",
    "version": 3
   },
   "file_extension": ".py",
   "mimetype": "text/x-python",
   "name": "python",
   "nbconvert_exporter": "python",
   "pygments_lexer": "ipython3",
   "version": "3.6.8"
  }
 },
 "nbformat": 4,
 "nbformat_minor": 4
}
