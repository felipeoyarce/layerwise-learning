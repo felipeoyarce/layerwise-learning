{
 "cells": [
  {
   "cell_type": "code",
   "execution_count": 1,
   "metadata": {},
   "outputs": [],
   "source": [
    "import random\n",
    "\n",
    "#Pennylane\n",
    "import pennylane as qml\n",
    "from pennylane import numpy as np\n",
    "\n",
    "#PyTorch\n",
    "import torch\n",
    "import torchvision\n",
    "from torchvision import datasets, transforms"
   ]
  },
  {
   "cell_type": "code",
   "execution_count": 2,
   "metadata": {},
   "outputs": [],
   "source": [
    "dev = qml.device('default.qubit', wires = 6)\n",
    "n_qubits = 6\n",
    "n_layer_steps = 5\n",
    "n_layers_to_add = 2\n",
    "dim = 2**(n_qubits)"
   ]
  },
  {
   "cell_type": "code",
   "execution_count": 3,
   "metadata": {},
   "outputs": [],
   "source": [
    "def set_random_gates(n_qubits: int):\n",
    "    \n",
    "    gate_set = [qml.RX, qml.RY, qml.RZ]\n",
    "    chosen_gates = []\n",
    "    for i in range(n_qubits):\n",
    "        chosen_gate = random.choice(gate_set)\n",
    "        chosen_gates.append(chosen_gate)\n",
    "    return chosen_gates\n",
    "\n",
    "def norm(complex_vector: np.array) -> float:\n",
    "    \"\"\"Returns the norm of a complex vector.\n",
    "    \n",
    "    Args:\n",
    "       complex_vector (np.arrray of shape (dim,)):\n",
    "           complex vector with an arbitrary dimension.\n",
    "           \n",
    "       \n",
    "    Returns:\n",
    "        norm (float): norm or magnitude of the complex vector.\n",
    "            \n",
    "    \"\"\"\n",
    "    \n",
    "    #define the norm of a complex vector here\n",
    "    norm = np.sqrt(sum([np.square(np.absolute(complex_vector[i])) for i in range(complex_vector.shape[0])]))\n",
    "    \n",
    "    return norm\n",
    "\n",
    "def random_quantum_state(dim: int, amplitude_type: str = 'complex') -> np.array:\n",
    "    \"\"\"Creates a normalized random real or complex vector of a defined\n",
    "    dimension.\n",
    "    \n",
    "    Args:\n",
    "        dim (int): integer number specifying the dimension\n",
    "            of the vector that we want to generate.\n",
    "            \n",
    "        amplitude_type (str): string indicating if you want to create a\n",
    "            vector with 'complex' or 'real' number amplitudes.\n",
    "            \n",
    "    Returns:\n",
    "        (np.array): normalized real or complex vector of the given\n",
    "            dimension.\n",
    "    \"\"\"\n",
    "    #generate an unnormalized complex vector of dimension = dim\n",
    "    if amplitude_type == 'complex':\n",
    "        Z = np.random.random(dim) + np.random.random(dim)*1j\n",
    "    \n",
    "    #generate an unnormalized real vector of dimension = dim\n",
    "    elif amplitude_type == 'real':\n",
    "        Z = np.random.random(dim)\n",
    "    \n",
    "    #normalize the complex vector Z\n",
    "    Z /= norm(Z)\n",
    "    \n",
    "    return Z\n",
    "\n",
    "def density_matrix(target_vector: np.array) -> np.array:\n",
    "    \"\"\"Return the density matrix of a pure state.\n",
    "    \n",
    "    Arguments:\n",
    "        target_vector (np.array): Complex vector array.\n",
    "        \n",
    "    Returns:\n",
    "        (np.array): Density matrix of shape (dim, dim),\n",
    "            where dim is the dimension of the target_vector.\n",
    "    \"\"\"\n",
    "    target_vector_reshape = target_vector.reshape((target_vector.shape[0],1))\n",
    "    density_matrix = target_vector_reshape @ np.transpose(np.conjugate(target_vector_reshape))\n",
    "    \n",
    "    return density_matrix"
   ]
  },
  {
   "cell_type": "code",
   "execution_count": 4,
   "metadata": {},
   "outputs": [],
   "source": [
    "target_vector = random_quantum_state(dim)\n",
    "density_matrix = density_matrix(target_vector)"
   ]
  },
  {
   "cell_type": "markdown",
   "metadata": {},
   "source": [
    "### Templates for Phase I"
   ]
  },
  {
   "cell_type": "code",
   "execution_count": 5,
   "metadata": {},
   "outputs": [],
   "source": [
    "@qml.template\n",
    "def apply_layer(gates, weights):\n",
    "    \n",
    "    for i in range(n_qubits):\n",
    "        gates[i](weights[i], wires = i)\n",
    "    \n",
    "    tuples = [(i,i+1) for i in range(n_qubits-1)]\n",
    "\n",
    "    for tup in tuples:\n",
    "        qml.CZ(wires=[tup[0], tup[1]])\n",
    "        \n",
    "@qml.template #template for non-trainable part of the quantum circuit\n",
    "def frozen_layers(frozen_layer_gates, frozen_layer_weights): \n",
    "    for i in range(len(frozen_layer_gates)):\n",
    "        apply_layer(frozen_layer_gates[i], frozen_layer_weights[i])\n",
    "\n",
    "@qml.qnode(dev)\n",
    "def trainable_circuit(params):\n",
    "    \n",
    "    #apply frozen layers\n",
    "    frozen_layers(layer_gates, layer_weights)\n",
    "    \n",
    "    #apply trainable layers\n",
    "    new_weights = []\n",
    "    for i in range(n_layers_to_add):\n",
    "        new_weights.append(params[int(i*n_qubits):int((i+1)*n_qubits)])\n",
    "\n",
    "    for i in range(n_layers_to_add):\n",
    "        apply_layer(new_gates[i], new_weights[i])\n",
    "        \n",
    "    wirelist = [i for i in range(n_qubits)]\n",
    "    return qml.expval(qml.Hermitian(density_matrix, wirelist))"
   ]
  },
  {
   "cell_type": "code",
   "execution_count": 6,
   "metadata": {},
   "outputs": [],
   "source": [
    "def cost(x):\n",
    "    \n",
    "    return (1.0 - trainable_circuit(x))"
   ]
  },
  {
   "cell_type": "code",
   "execution_count": 7,
   "metadata": {},
   "outputs": [
    {
     "data": {
      "text/plain": [
       "0.006377498723200836"
      ]
     },
     "execution_count": 7,
     "metadata": {},
     "output_type": "execute_result"
    }
   ],
   "source": [
    "layer_gates = []\n",
    "layer_weights = []\n",
    "n_layers = 2\n",
    "for i in range(n_layers):\n",
    "    layer_gates.append(set_random_gates(n_qubits))\n",
    "    layer_weights.append(np.random.rand(n_qubits)*2*np.pi)\n",
    "    \n",
    "new_gates = [set_random_gates(n_qubits) for i in range(n_layers_to_add)]\n",
    "new_weights = np.random.rand(n_qubits*n_layers_to_add)*2*np.pi\n",
    "\n",
    "trainable_circuit(new_weights)"
   ]
  },
  {
   "cell_type": "code",
   "execution_count": 8,
   "metadata": {},
   "outputs": [
    {
     "name": "stdout",
     "output_type": "stream",
     "text": [
      " 0: ──RZ(3.07)───╭C───RX(3.53)────────────╭C──────────RZ(3.486)──────────────╭C───────────RX(5.057)──────────────╭C────────────────────────────────────────╭┤ ⟨H0⟩ \n",
      " 1: ──RX(0.716)──╰Z──╭C──────────RX(1.9)──╰Z─────────╭C───────────RX(2.782)──╰Z──────────╭C───────────RX(6.234)──╰Z──────────╭C────────────────────────────├┤ ⟨H0⟩ \n",
      " 2: ──RY(0.643)──────╰Z─────────╭C─────────RZ(2.75)──╰Z──────────╭C───────────RZ(4.232)──╰Z──────────╭C───────────RX(5.383)──╰Z────────╭C──────────────────├┤ ⟨H0⟩ \n",
      " 3: ──RZ(5.63)──────────────────╰Z────────╭C──────────RX(3.07)───╰Z──────────╭C───────────RZ(6.106)──╰Z──────────╭C───────────RY(5.7)──╰Z──────────╭C──────├┤ ⟨H0⟩ \n",
      " 4: ──RX(3.98)────────────────────────────╰Z─────────╭C───────────RY(3.14)───╰Z──────────╭C───────────RZ(1.489)──╰Z──────────╭C─────────RY(5.135)──╰Z──╭C──├┤ ⟨H0⟩ \n",
      " 5: ──RX(4.87)───────────────────────────────────────╰Z───────────RX(3.61)───────────────╰Z───────────RX(5.84)───────────────╰Z─────────RY(5.605)──────╰Z──╰┤ ⟨H0⟩ \n",
      "H0 =\n",
      "[[0.01809935+0.j         0.01814336+0.00308471j 0.01025791+0.00274688j\n",
      "  ... 0.01218872+0.00362368j 0.01688344-0.00694315j\n",
      "  0.01981758-0.00376696j]\n",
      " [0.01814336-0.00308471j 0.01871321+0.j         0.01075101+0.00100529j\n",
      "  ... 0.01283595+0.00155514j 0.01574116-0.00983751j\n",
      "  0.01922376-0.00715367j]\n",
      " [0.01025791-0.00274688j 0.01075101-0.00100529j 0.00623061+0.j\n",
      "  ... 0.00745798+0.0002039j  0.00851504-0.00649742j\n",
      "  0.01066002-0.0051426j ]\n",
      " ...\n",
      " [0.01218872-0.00362368j 0.01283595-0.00155514j 0.00745798-0.0002039j\n",
      "  ... 0.00893381+0.j         0.0099798 -0.008056j\n",
      "  0.01259165-0.00650449j]\n",
      " [0.01688344+0.00694315j 0.01574116+0.00983751j 0.00851504+0.00649742j\n",
      "  ... 0.0099798 +0.008056j   0.0184127 +0.j\n",
      "  0.0199313 +0.00408839j]\n",
      " [0.01981758+0.00376696j 0.01922376+0.00715367j 0.01066002+0.0051426j\n",
      "  ... 0.01259165+0.00650449j 0.0199313 -0.00408839j\n",
      "  0.02248293+0.j        ]]\n",
      "\n"
     ]
    }
   ],
   "source": [
    "print(trainable_circuit.draw())"
   ]
  },
  {
   "cell_type": "code",
   "execution_count": 9,
   "metadata": {},
   "outputs": [
    {
     "data": {
      "text/plain": [
       "[[pennylane.ops.qubit.RZ,\n",
       "  pennylane.ops.qubit.RX,\n",
       "  pennylane.ops.qubit.RY,\n",
       "  pennylane.ops.qubit.RZ,\n",
       "  pennylane.ops.qubit.RX,\n",
       "  pennylane.ops.qubit.RX],\n",
       " [pennylane.ops.qubit.RX,\n",
       "  pennylane.ops.qubit.RX,\n",
       "  pennylane.ops.qubit.RZ,\n",
       "  pennylane.ops.qubit.RX,\n",
       "  pennylane.ops.qubit.RY,\n",
       "  pennylane.ops.qubit.RX]]"
      ]
     },
     "execution_count": 9,
     "metadata": {},
     "output_type": "execute_result"
    }
   ],
   "source": [
    "layer_gates"
   ]
  },
  {
   "cell_type": "code",
   "execution_count": 10,
   "metadata": {
    "scrolled": false
   },
   "outputs": [
    {
     "name": "stdout",
     "output_type": "stream",
     "text": [
      "0\n",
      "[]\n",
      "0.8796879689103688\n",
      "1\n",
      "[array([ 2.10400159e-01,  1.66533454e-17, -5.47083698e-01,  2.63677968e-17,\n",
      "        5.68989300e-17,  1.80411242e-17]), array([ 0.43871574,  0.72450691, -0.5470837 , -0.80994176,  0.45738643,\n",
      "        1.15241499])]\n",
      "0.7069790986837676\n",
      "2\n",
      "[array([ 2.10400159e-01,  1.66533454e-17, -5.47083698e-01,  2.63677968e-17,\n",
      "        5.68989300e-17,  1.80411242e-17]), array([ 0.43871574,  0.72450691, -0.5470837 , -0.80994176,  0.45738643,\n",
      "        1.15241499]), array([-0.45456927,  0.50659424,  1.24572831,  1.38817122,  0.30235989,\n",
      "        0.5777338 ]), array([ 0.04519363,  0.02070302,  0.50438761, -0.23495578, -0.04768922,\n",
      "       -0.10360508])]\n",
      "0.5871134741946022\n",
      "3\n",
      "[array([ 2.10400159e-01,  1.66533454e-17, -5.47083698e-01,  2.63677968e-17,\n",
      "        5.68989300e-17,  1.80411242e-17]), array([ 0.43871574,  0.72450691, -0.5470837 , -0.80994176,  0.45738643,\n",
      "        1.15241499]), array([-0.45456927,  0.50659424,  1.24572831,  1.38817122,  0.30235989,\n",
      "        0.5777338 ]), array([ 0.04519363,  0.02070302,  0.50438761, -0.23495578, -0.04768922,\n",
      "       -0.10360508]), array([-0.46459097,  0.63507508, -0.1146228 , -0.30094421,  0.93010568,\n",
      "        0.15200487]), array([ 0.14479619,  0.02267602, -0.1146228 , -0.71001688,  0.22014436,\n",
      "       -0.07767378])]\n",
      "0.3396947558341461\n",
      "4\n",
      "[array([ 2.10400159e-01,  1.66533454e-17, -5.47083698e-01,  2.63677968e-17,\n",
      "        5.68989300e-17,  1.80411242e-17]), array([ 0.43871574,  0.72450691, -0.5470837 , -0.80994176,  0.45738643,\n",
      "        1.15241499]), array([-0.45456927,  0.50659424,  1.24572831,  1.38817122,  0.30235989,\n",
      "        0.5777338 ]), array([ 0.04519363,  0.02070302,  0.50438761, -0.23495578, -0.04768922,\n",
      "       -0.10360508]), array([-0.46459097,  0.63507508, -0.1146228 , -0.30094421,  0.93010568,\n",
      "        0.15200487]), array([ 0.14479619,  0.02267602, -0.1146228 , -0.71001688,  0.22014436,\n",
      "       -0.07767378]), array([ 0.71445844,  0.75289405, -0.87384212, -0.00109433,  0.20517063,\n",
      "       -0.18387147]), array([-0.70863476,  0.06306516, -0.27223206, -0.1096503 ,  0.06962437,\n",
      "       -0.05013378])]\n",
      "0.2822835814667751\n"
     ]
    }
   ],
   "source": [
    "layer_gates = []\n",
    "layer_weights = []\n",
    "cost_list = []\n",
    "for step in range(n_layer_steps):\n",
    "    \n",
    "    new_gates = [set_random_gates(n_qubits) for i in range(n_layers_to_add)]\n",
    "    init_params = np.zeros(n_qubits*n_layers_to_add)\n",
    "    \n",
    "    opt = qml.GradientDescentOptimizer(stepsize = 0.4)\n",
    "\n",
    "    opt_steps = 100\n",
    "\n",
    "    params = init_params\n",
    "    \n",
    "    for i in range(opt_steps):\n",
    "\n",
    "        params = opt.step(cost, params)\n",
    "    \n",
    "    \n",
    "    print(step)\n",
    "    print(layer_weights)\n",
    "    print(cost(params))\n",
    "    cost_list.append(cost(params))\n",
    "    \n",
    "    trained_weights = [params[int(i*n_qubits):int((i+1)*n_qubits)] for i in range(n_layers_to_add)]\n",
    "    \n",
    "    layer_gates += new_gates\n",
    "    layer_weights += trained_weights"
   ]
  },
  {
   "cell_type": "code",
   "execution_count": 11,
   "metadata": {},
   "outputs": [
    {
     "data": {
      "text/plain": [
       "[array([ 2.10400159e-01,  1.66533454e-17, -5.47083698e-01,  2.63677968e-17,\n",
       "         5.68989300e-17,  1.80411242e-17]),\n",
       " array([ 0.43871574,  0.72450691, -0.5470837 , -0.80994176,  0.45738643,\n",
       "         1.15241499]),\n",
       " array([-0.45456927,  0.50659424,  1.24572831,  1.38817122,  0.30235989,\n",
       "         0.5777338 ]),\n",
       " array([ 0.04519363,  0.02070302,  0.50438761, -0.23495578, -0.04768922,\n",
       "        -0.10360508]),\n",
       " array([-0.46459097,  0.63507508, -0.1146228 , -0.30094421,  0.93010568,\n",
       "         0.15200487]),\n",
       " array([ 0.14479619,  0.02267602, -0.1146228 , -0.71001688,  0.22014436,\n",
       "        -0.07767378]),\n",
       " array([ 0.71445844,  0.75289405, -0.87384212, -0.00109433,  0.20517063,\n",
       "        -0.18387147]),\n",
       " array([-0.70863476,  0.06306516, -0.27223206, -0.1096503 ,  0.06962437,\n",
       "        -0.05013378]),\n",
       " array([ 0.23179883, -0.01797858,  0.29046467, -0.18620561, -0.0203647 ,\n",
       "        -0.01099372]),\n",
       " array([-0.59479206, -0.14751631,  0.04470062,  0.04020178, -0.08343376,\n",
       "        -0.10029656])]"
      ]
     },
     "execution_count": 11,
     "metadata": {},
     "output_type": "execute_result"
    }
   ],
   "source": [
    "layer_weights"
   ]
  },
  {
   "cell_type": "markdown",
   "metadata": {},
   "source": [
    "### Phase II"
   ]
  },
  {
   "cell_type": "code",
   "execution_count": 12,
   "metadata": {},
   "outputs": [],
   "source": [
    "partition_percentage = 0.5\n",
    "partition_size = int(n_layer_steps*n_layers_to_add*partition_percentage)\n",
    "n_partition_weights = partition_size*n_qubits\n",
    "n_sweeps = 2"
   ]
  },
  {
   "cell_type": "code",
   "execution_count": 17,
   "metadata": {},
   "outputs": [
    {
     "name": "stdout",
     "output_type": "stream",
     "text": [
      "[array([ 2.10400159e-01,  1.66533454e-17, -5.47083698e-01,  2.63677968e-17,\n",
      "        5.68989300e-17,  1.80411242e-17]), array([ 0.43871574,  0.72450691, -0.5470837 , -0.80994176,  0.45738643,\n",
      "        1.15241499]), array([-0.45456927,  0.50659424,  1.24572831,  1.38817122,  0.30235989,\n",
      "        0.5777338 ]), array([ 0.04519363,  0.02070302,  0.50438761, -0.23495578, -0.04768922,\n",
      "       -0.10360508]), array([-0.46459097,  0.63507508, -0.1146228 , -0.30094421,  0.93010568,\n",
      "        0.15200487])]\n",
      "[[<class 'pennylane.ops.qubit.RX'>, <class 'pennylane.ops.qubit.RZ'>, <class 'pennylane.ops.qubit.RX'>, <class 'pennylane.ops.qubit.RZ'>, <class 'pennylane.ops.qubit.RZ'>, <class 'pennylane.ops.qubit.RZ'>], [<class 'pennylane.ops.qubit.RY'>, <class 'pennylane.ops.qubit.RY'>, <class 'pennylane.ops.qubit.RX'>, <class 'pennylane.ops.qubit.RX'>, <class 'pennylane.ops.qubit.RY'>, <class 'pennylane.ops.qubit.RY'>], [<class 'pennylane.ops.qubit.RX'>, <class 'pennylane.ops.qubit.RX'>, <class 'pennylane.ops.qubit.RY'>, <class 'pennylane.ops.qubit.RY'>, <class 'pennylane.ops.qubit.RZ'>, <class 'pennylane.ops.qubit.RY'>], [<class 'pennylane.ops.qubit.RY'>, <class 'pennylane.ops.qubit.RY'>, <class 'pennylane.ops.qubit.RY'>, <class 'pennylane.ops.qubit.RX'>, <class 'pennylane.ops.qubit.RY'>, <class 'pennylane.ops.qubit.RX'>], [<class 'pennylane.ops.qubit.RX'>, <class 'pennylane.ops.qubit.RX'>, <class 'pennylane.ops.qubit.RZ'>, <class 'pennylane.ops.qubit.RX'>, <class 'pennylane.ops.qubit.RY'>, <class 'pennylane.ops.qubit.RX'>]]\n"
     ]
    }
   ],
   "source": [
    "print(layer_weights[:5])\n",
    "print(layer_gates[:5])"
   ]
  },
  {
   "cell_type": "code",
   "execution_count": 21,
   "metadata": {},
   "outputs": [
    {
     "data": {
      "text/plain": [
       "tensor([ 2.10400159e-01,  1.66533454e-17, -5.47083698e-01,\n",
       "         2.63677968e-17,  5.68989300e-17,  1.80411242e-17,\n",
       "         4.38715740e-01,  7.24506914e-01, -5.47083698e-01,\n",
       "        -8.09941763e-01,  4.57386427e-01,  1.15241499e+00,\n",
       "        -4.54569267e-01,  5.06594237e-01,  1.24572831e+00,\n",
       "         1.38817122e+00,  3.02359885e-01,  5.77733795e-01,\n",
       "         4.51936345e-02,  2.07030219e-02,  5.04387608e-01,\n",
       "        -2.34955782e-01, -4.76892210e-02, -1.03605083e-01,\n",
       "        -4.64590972e-01,  6.35075082e-01, -1.14622804e-01,\n",
       "        -3.00944214e-01,  9.30105678e-01,  1.52004868e-01], requires_grad=True)"
      ]
     },
     "execution_count": 21,
     "metadata": {},
     "output_type": "execute_result"
    }
   ],
   "source": [
    "trainable_layers = layer_gates[:partition_size]\n",
    "trainable_weights = layer_weights[:partition_size]\n",
    "weights_flatten = np.concatenate(trainable_weights).ravel()\n",
    "\n",
    "#is going to depend on the part of the circuit\n",
    "@qml.template\n",
    "def apply_partition(layer_gates, layer_weights)"
   ]
  }
 ],
 "metadata": {
  "kernelspec": {
   "display_name": "Python 3",
   "language": "python",
   "name": "python3"
  },
  "language_info": {
   "codemirror_mode": {
    "name": "ipython",
    "version": 3
   },
   "file_extension": ".py",
   "mimetype": "text/x-python",
   "name": "python",
   "nbconvert_exporter": "python",
   "pygments_lexer": "ipython3",
   "version": "3.6.8"
  }
 },
 "nbformat": 4,
 "nbformat_minor": 4
}
