{
 "cells": [
  {
   "cell_type": "code",
   "execution_count": 1,
   "metadata": {},
   "outputs": [],
   "source": [
    "import random\n",
    "\n",
    "#Pennylane\n",
    "import pennylane as qml\n",
    "from pennylane import numpy as np\n",
    "\n",
    "#PyTorch\n",
    "import torch\n",
    "import torchvision\n",
    "from torchvision import datasets, transforms"
   ]
  },
  {
   "cell_type": "code",
   "execution_count": 2,
   "metadata": {},
   "outputs": [],
   "source": [
    "dev = qml.device('default.qubit', wires = 6)\n",
    "n_qubits = 6\n",
    "n_layer_steps = 5\n",
    "n_layers_to_add = 2"
   ]
  },
  {
   "cell_type": "code",
   "execution_count": 3,
   "metadata": {},
   "outputs": [],
   "source": [
    "def set_random_gates(n_qubits: int):\n",
    "    \n",
    "    gate_set = [qml.RX, qml.RY, qml.RZ]\n",
    "    chosen_gates = []\n",
    "    for i in range(n_qubits):\n",
    "        chosen_gate = random.choice(gate_set)\n",
    "        chosen_gates.append(chosen_gate)\n",
    "    return chosen_gates"
   ]
  },
  {
   "cell_type": "code",
   "execution_count": 4,
   "metadata": {},
   "outputs": [],
   "source": [
    "@qml.template\n",
    "def apply_layer(gates, weights):\n",
    "    \n",
    "    for i in range(n_qubits):\n",
    "        gates[i](weights[i], wires = i)\n",
    "    \n",
    "    tuples = [(i,i+1) for i in range(n_qubits-1)]\n",
    "\n",
    "    for tup in tuples:\n",
    "        qml.CZ(wires=[tup[0], tup[1]])"
   ]
  },
  {
   "cell_type": "code",
   "execution_count": 5,
   "metadata": {},
   "outputs": [],
   "source": [
    "layer_gates = []\n",
    "layer_weights = []\n",
    "weights_1 = np.random.rand(n_qubits)*2*np.pi\n",
    "gates_1 = set_random_gates(n_qubits)\n",
    "weights_2 = np.random.rand(n_qubits)*2*np.pi\n",
    "gates_2 = set_random_gates(n_qubits)\n",
    "layer_weights.append(weights_1)\n",
    "layer_weights.append(weights_2)\n",
    "layer_gates.append(gates_1)\n",
    "layer_gates.append(gates_2)\n",
    "\n",
    "@qml.template #This could be a template for the setting the previous layers.\n",
    "def frozen_circuit(layer_gates, layer_weights): #Must depend in the new parameters, 12 parameters, 6 per layer\n",
    "    for i in range(len(layer_gates)):\n",
    "        apply_layer(layer_gates[i], layer_weights[i])"
   ]
  },
  {
   "cell_type": "code",
   "execution_count": 6,
   "metadata": {},
   "outputs": [
    {
     "name": "stdout",
     "output_type": "stream",
     "text": [
      "[[<class 'pennylane.ops.qubit.RY'>, <class 'pennylane.ops.qubit.RY'>, <class 'pennylane.ops.qubit.RX'>, <class 'pennylane.ops.qubit.RX'>, <class 'pennylane.ops.qubit.RY'>, <class 'pennylane.ops.qubit.RY'>], [<class 'pennylane.ops.qubit.RY'>, <class 'pennylane.ops.qubit.RY'>, <class 'pennylane.ops.qubit.RZ'>, <class 'pennylane.ops.qubit.RZ'>, <class 'pennylane.ops.qubit.RY'>, <class 'pennylane.ops.qubit.RX'>]]\n",
      "[tensor([4.25251137, 2.21357348, 3.74944973, 0.44930823, 3.33840587,\n",
      "        6.10150727], requires_grad=True), tensor([3.69591492, 4.84322607, 5.86948628, 1.46705465, 0.47329481,\n",
      "        4.91545338], requires_grad=True)]\n"
     ]
    }
   ],
   "source": [
    "print(layer_gates)\n",
    "print(layer_weights)"
   ]
  },
  {
   "cell_type": "code",
   "execution_count": 7,
   "metadata": {},
   "outputs": [
    {
     "data": {
      "text/plain": [
       "[RY(tensor(4.25251137, requires_grad=True), wires=[0]),\n",
       " RY(tensor(2.21357348, requires_grad=True), wires=[1]),\n",
       " RX(tensor(3.74944973, requires_grad=True), wires=[2]),\n",
       " RX(tensor(0.44930823, requires_grad=True), wires=[3]),\n",
       " RY(tensor(3.33840587, requires_grad=True), wires=[4]),\n",
       " RY(tensor(6.10150727, requires_grad=True), wires=[5]),\n",
       " CZ(wires=[0, 1]),\n",
       " CZ(wires=[1, 2]),\n",
       " CZ(wires=[2, 3]),\n",
       " CZ(wires=[3, 4]),\n",
       " CZ(wires=[4, 5]),\n",
       " RY(tensor(3.69591492, requires_grad=True), wires=[0]),\n",
       " RY(tensor(4.84322607, requires_grad=True), wires=[1]),\n",
       " RZ(tensor(5.86948628, requires_grad=True), wires=[2]),\n",
       " RZ(tensor(1.46705465, requires_grad=True), wires=[3]),\n",
       " RY(tensor(0.47329481, requires_grad=True), wires=[4]),\n",
       " RX(tensor(4.91545338, requires_grad=True), wires=[5]),\n",
       " CZ(wires=[0, 1]),\n",
       " CZ(wires=[1, 2]),\n",
       " CZ(wires=[2, 3]),\n",
       " CZ(wires=[3, 4]),\n",
       " CZ(wires=[4, 5])]"
      ]
     },
     "execution_count": 7,
     "metadata": {},
     "output_type": "execute_result"
    }
   ],
   "source": [
    "frozen_circuit(layer_gates, layer_weights)"
   ]
  },
  {
   "cell_type": "code",
   "execution_count": 8,
   "metadata": {},
   "outputs": [],
   "source": [
    "layer_gates = []\n",
    "layer_weights = []"
   ]
  },
  {
   "cell_type": "code",
   "execution_count": 9,
   "metadata": {},
   "outputs": [
    {
     "name": "stdout",
     "output_type": "stream",
     "text": [
      "[4.54133674 4.26672475 5.65155347 3.80294482 5.61712966 1.87108463]\n",
      "[<class 'pennylane.ops.qubit.RY'>, <class 'pennylane.ops.qubit.RZ'>, <class 'pennylane.ops.qubit.RZ'>, <class 'pennylane.ops.qubit.RZ'>, <class 'pennylane.ops.qubit.RY'>, <class 'pennylane.ops.qubit.RZ'>]\n"
     ]
    },
    {
     "data": {
      "text/plain": [
       "[RY(tensor(4.54133674, requires_grad=True), wires=[0]),\n",
       " RZ(tensor(4.26672475, requires_grad=True), wires=[1]),\n",
       " RZ(tensor(5.65155347, requires_grad=True), wires=[2]),\n",
       " RZ(tensor(3.80294482, requires_grad=True), wires=[3]),\n",
       " RY(tensor(5.61712966, requires_grad=True), wires=[4]),\n",
       " RZ(tensor(1.87108463, requires_grad=True), wires=[5]),\n",
       " CZ(wires=[0, 1]),\n",
       " CZ(wires=[1, 2]),\n",
       " CZ(wires=[2, 3]),\n",
       " CZ(wires=[3, 4]),\n",
       " CZ(wires=[4, 5])]"
      ]
     },
     "execution_count": 9,
     "metadata": {},
     "output_type": "execute_result"
    }
   ],
   "source": [
    "weights = np.random.rand(n_qubits)*2*np.pi\n",
    "gates = set_random_gates(n_qubits)\n",
    "print(weights)\n",
    "print(gates)\n",
    "apply_layer(gates, weights)"
   ]
  },
  {
   "cell_type": "code",
   "execution_count": 10,
   "metadata": {},
   "outputs": [],
   "source": [
    "for step in range(n_layer_steps):\n",
    "    \n",
    "    for prev_layers in layer_gates:\n",
    "        apply_layer(prev_layers, prev_weights)\n",
    "        \n",
    "    for layer in range(n_layers_to_add):\n",
    "        set_gates = set_random_gates(n_qubits)\n",
    "\n",
    "    #train circuit\n",
    "    \n",
    "    #obtain weights and add them properly to layer_weights"
   ]
  }
 ],
 "metadata": {
  "kernelspec": {
   "display_name": "Python 3",
   "language": "python",
   "name": "python3"
  },
  "language_info": {
   "codemirror_mode": {
    "name": "ipython",
    "version": 3
   },
   "file_extension": ".py",
   "mimetype": "text/x-python",
   "name": "python",
   "nbconvert_exporter": "python",
   "pygments_lexer": "ipython3",
   "version": "3.6.8"
  }
 },
 "nbformat": 4,
 "nbformat_minor": 4
}
