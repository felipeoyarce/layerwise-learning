{
 "cells": [
  {
   "cell_type": "code",
   "execution_count": 1,
   "metadata": {},
   "outputs": [],
   "source": [
    "import random\n",
    "\n",
    "#Pennylane\n",
    "import pennylane as qml\n",
    "from pennylane import numpy as np\n",
    "\n",
    "#PyTorch\n",
    "import torch\n",
    "import torchvision\n",
    "from torchvision import datasets, transforms"
   ]
  },
  {
   "cell_type": "code",
   "execution_count": 2,
   "metadata": {},
   "outputs": [],
   "source": [
    "dev = qml.device('default.qubit', wires = 6)\n",
    "n_qubits = 6\n",
    "n_layer_steps = 7\n",
    "n_layers_to_add = 2\n",
    "dim = 2**(n_qubits)"
   ]
  },
  {
   "cell_type": "code",
   "execution_count": 3,
   "metadata": {},
   "outputs": [],
   "source": [
    "def set_random_gates(n_qubits: int):\n",
    "    \n",
    "    gate_set = [qml.RX, qml.RY, qml.RZ]\n",
    "    chosen_gates = []\n",
    "    for i in range(n_qubits):\n",
    "        chosen_gate = random.choice(gate_set)\n",
    "        chosen_gates.append(chosen_gate)\n",
    "    return chosen_gates\n",
    "\n",
    "def norm(complex_vector: np.array) -> float:\n",
    "    \"\"\"Returns the norm of a complex vector.\n",
    "    \n",
    "    Args:\n",
    "       complex_vector (np.arrray of shape (dim,)):\n",
    "           complex vector with an arbitrary dimension.\n",
    "           \n",
    "       \n",
    "    Returns:\n",
    "        norm (float): norm or magnitude of the complex vector.\n",
    "            \n",
    "    \"\"\"\n",
    "    \n",
    "    #define the norm of a complex vector here\n",
    "    norm = np.sqrt(sum([np.square(np.absolute(complex_vector[i])) for i in range(complex_vector.shape[0])]))\n",
    "    \n",
    "    return norm\n",
    "\n",
    "def random_quantum_state(dim: int, amplitude_type: str = 'complex') -> np.array:\n",
    "    \"\"\"Creates a normalized random real or complex vector of a defined\n",
    "    dimension.\n",
    "    \n",
    "    Args:\n",
    "        dim (int): integer number specifying the dimension\n",
    "            of the vector that we want to generate.\n",
    "            \n",
    "        amplitude_type (str): string indicating if you want to create a\n",
    "            vector with 'complex' or 'real' number amplitudes.\n",
    "            \n",
    "    Returns:\n",
    "        (np.array): normalized real or complex vector of the given\n",
    "            dimension.\n",
    "    \"\"\"\n",
    "    #generate an unnormalized complex vector of dimension = dim\n",
    "    if amplitude_type == 'complex':\n",
    "        Z = np.random.random(dim) + np.random.random(dim)*1j\n",
    "    \n",
    "    #generate an unnormalized real vector of dimension = dim\n",
    "    elif amplitude_type == 'real':\n",
    "        Z = np.random.random(dim)\n",
    "    \n",
    "    #normalize the complex vector Z\n",
    "    Z /= norm(Z)\n",
    "    \n",
    "    return Z\n",
    "\n",
    "def density_matrix(target_vector: np.array) -> np.array:\n",
    "    \"\"\"Return the density matrix of a pure state.\n",
    "    \n",
    "    Arguments:\n",
    "        target_vector (np.array): Complex vector array.\n",
    "        \n",
    "    Returns:\n",
    "        (np.array): Density matrix of shape (dim, dim),\n",
    "            where dim is the dimension of the target_vector.\n",
    "    \"\"\"\n",
    "    target_vector_reshape = target_vector.reshape((target_vector.shape[0],1))\n",
    "    density_matrix = target_vector_reshape @ np.transpose(np.conjugate(target_vector_reshape))\n",
    "    \n",
    "    return density_matrix"
   ]
  },
  {
   "cell_type": "code",
   "execution_count": 4,
   "metadata": {},
   "outputs": [],
   "source": [
    "target_vector = random_quantum_state(dim)\n",
    "density_matrix = density_matrix(target_vector)"
   ]
  },
  {
   "cell_type": "markdown",
   "metadata": {},
   "source": [
    "### Templates for Phase I"
   ]
  },
  {
   "cell_type": "code",
   "execution_count": 5,
   "metadata": {},
   "outputs": [],
   "source": [
    "@qml.template\n",
    "def apply_layer(gates, weights):\n",
    "    \n",
    "    for i in range(n_qubits):\n",
    "        gates[i](weights[i], wires = i)\n",
    "    \n",
    "    tuples = [(i,i+1) for i in range(n_qubits-1)]\n",
    "\n",
    "    for tup in tuples:\n",
    "        qml.CZ(wires=[tup[0], tup[1]])\n",
    "        \n",
    "@qml.template #template for non-trainable part of the quantum circuit\n",
    "def frozen_layers(frozen_layer_gates, frozen_layer_weights): \n",
    "    for i in range(len(frozen_layer_gates)):\n",
    "        apply_layer(frozen_layer_gates[i], frozen_layer_weights[i])\n",
    "\n",
    "@qml.qnode(dev)\n",
    "def trainable_circuit(params):\n",
    "    \n",
    "    #apply frozen layers\n",
    "    frozen_layers(layer_gates, layer_weights)\n",
    "    \n",
    "    #apply trainable layers\n",
    "    new_weights = []\n",
    "    for i in range(n_layers_to_add):\n",
    "        new_weights.append(params[int(i*n_qubits):int((i+1)*n_qubits)])\n",
    "\n",
    "    for i in range(n_layers_to_add):\n",
    "        apply_layer(new_gates[i], new_weights[i])\n",
    "        \n",
    "    wirelist = [i for i in range(n_qubits)]\n",
    "    return qml.expval(qml.Hermitian(density_matrix, wirelist))"
   ]
  },
  {
   "cell_type": "code",
   "execution_count": 6,
   "metadata": {},
   "outputs": [],
   "source": [
    "def cost(x):\n",
    "    \n",
    "    return (1.0 - trainable_circuit(x))"
   ]
  },
  {
   "cell_type": "code",
   "execution_count": 7,
   "metadata": {},
   "outputs": [
    {
     "data": {
      "text/plain": [
       "0.00013232665103589305"
      ]
     },
     "execution_count": 7,
     "metadata": {},
     "output_type": "execute_result"
    }
   ],
   "source": [
    "layer_gates = []\n",
    "layer_weights = []\n",
    "n_layers = 2\n",
    "for i in range(n_layers):\n",
    "    layer_gates.append(set_random_gates(n_qubits))\n",
    "    layer_weights.append(np.random.rand(n_qubits)*2*np.pi)\n",
    "    \n",
    "new_gates = [set_random_gates(n_qubits) for i in range(n_layers_to_add)]\n",
    "new_weights = np.random.rand(n_qubits*n_layers_to_add)*2*np.pi\n",
    "\n",
    "trainable_circuit(new_weights)"
   ]
  },
  {
   "cell_type": "code",
   "execution_count": 8,
   "metadata": {},
   "outputs": [
    {
     "name": "stdout",
     "output_type": "stream",
     "text": [
      " 0: ──RX(5.24)────╭C───RZ(0.239)─────────────╭C──────────RZ(2.489)──────────────╭C───────────RY(3.732)──────────────╭C─────────────────────────────────────────╭┤ ⟨H0⟩ \n",
      " 1: ──RY(4.79)────╰Z──╭C───────────RX(2.91)──╰Z─────────╭C───────────RY(0.717)──╰Z──────────╭C───────────RY(4.301)──╰Z──────────╭C─────────────────────────────├┤ ⟨H0⟩ \n",
      " 2: ──RX(3.31)────────╰Z──────────╭C──────────RZ(1.19)──╰Z──────────╭C───────────RX(6.155)──╰Z──────────╭C───────────RX(4.094)──╰Z─────────╭C──────────────────├┤ ⟨H0⟩ \n",
      " 3: ──RZ(4.49)────────────────────╰Z─────────╭C──────────RY(3.06)───╰Z──────────╭C───────────RZ(2.405)──╰Z──────────╭C───────────RY(4.97)──╰Z──────────╭C──────├┤ ⟨H0⟩ \n",
      " 4: ──RZ(5.99)───────────────────────────────╰Z─────────╭C───────────RY(0.901)──╰Z──────────╭C───────────RX(0.473)──╰Z──────────╭C──────────RX(3.822)──╰Z──╭C──├┤ ⟨H0⟩ \n",
      " 5: ──RZ(0.0878)────────────────────────────────────────╰Z───────────RZ(4.81)───────────────╰Z───────────RY(1.135)──────────────╰Z──────────RX(0.277)──────╰Z──╰┤ ⟨H0⟩ \n",
      "H0 =\n",
      "[[0.02659967+0.00000000e+00j 0.01639375-9.05509264e-03j\n",
      "  0.02623572+5.18500935e-03j ... 0.01085554+3.36525484e-03j\n",
      "  0.01551664+8.27465524e-03j 0.02367738-5.57382564e-05j]\n",
      " [0.01639375+9.05509264e-03j 0.01318624+0.00000000e+00j\n",
      "  0.01440435+1.21267909e-02j ... 0.00554482+5.76951000e-03j\n",
      "  0.00674625+1.03819798e-02j 0.01461167+8.02593115e-03j]\n",
      " [0.02623572-5.18500935e-03j 0.01440435-1.21267909e-02j\n",
      "  0.02688746+0.00000000e+00j ... 0.01136299+1.20316589e-03j\n",
      "  0.0169173 +5.13681677e-03j 0.02334255-4.67035026e-03j]\n",
      " ...\n",
      " [0.01085554-3.36525484e-03j 0.00554482-5.76951000e-03j\n",
      "  0.01136299-1.20316589e-03j ... 0.00485599+0.00000000e+00j\n",
      "  0.00737933+1.41386718e-03j 0.00965588-3.01828896e-03j]\n",
      " [0.01551664-8.27465524e-03j 0.00674625-1.03819798e-02j\n",
      "  0.0169173 -5.13681677e-03j ... 0.00737933-1.41386718e-03j\n",
      "  0.01162556+0.00000000e+00j 0.01379462-7.39810065e-03j]\n",
      " [0.02367738+5.57382564e-05j 0.01461167-8.02593115e-03j\n",
      "  0.02334255+4.67035026e-03j ... 0.00965588+3.01828896e-03j\n",
      "  0.01379462+7.39810065e-03j 0.02107626+0.00000000e+00j]]\n",
      "\n"
     ]
    }
   ],
   "source": [
    "print(trainable_circuit.draw())"
   ]
  },
  {
   "cell_type": "code",
   "execution_count": 9,
   "metadata": {},
   "outputs": [
    {
     "data": {
      "text/plain": [
       "[[pennylane.ops.qubit.RX,\n",
       "  pennylane.ops.qubit.RY,\n",
       "  pennylane.ops.qubit.RX,\n",
       "  pennylane.ops.qubit.RZ,\n",
       "  pennylane.ops.qubit.RZ,\n",
       "  pennylane.ops.qubit.RZ],\n",
       " [pennylane.ops.qubit.RZ,\n",
       "  pennylane.ops.qubit.RX,\n",
       "  pennylane.ops.qubit.RZ,\n",
       "  pennylane.ops.qubit.RY,\n",
       "  pennylane.ops.qubit.RY,\n",
       "  pennylane.ops.qubit.RZ]]"
      ]
     },
     "execution_count": 9,
     "metadata": {},
     "output_type": "execute_result"
    }
   ],
   "source": [
    "layer_gates"
   ]
  },
  {
   "cell_type": "code",
   "execution_count": null,
   "metadata": {
    "scrolled": false
   },
   "outputs": [
    {
     "name": "stdout",
     "output_type": "stream",
     "text": [
      "0\n",
      "[]\n",
      "0.9024292206536404\n",
      "1\n",
      "[array([ 1.65143805e-01, -7.93335605e-02,  6.93889390e-19,  1.50238624e-01,\n",
      "        1.47769586e-01, -3.30400957e-01]), array([ 0.14454178, -0.04168883,  1.15194764, -0.03582504,  1.01763943,\n",
      "       -0.13664354])]\n",
      "0.7829554378549575\n",
      "2\n",
      "[array([ 1.65143805e-01, -7.93335605e-02,  6.93889390e-19,  1.50238624e-01,\n",
      "        1.47769586e-01, -3.30400957e-01]), array([ 0.14454178, -0.04168883,  1.15194764, -0.03582504,  1.01763943,\n",
      "       -0.13664354]), array([ 0.83976508, -0.76299429, -0.3773989 ,  1.10658517,  0.35429636,\n",
      "       -0.25847681]), array([ 0.49518756,  0.14207511, -0.34694144,  0.19335861,  0.21768019,\n",
      "       -0.25847681])]\n",
      "0.5075206167270266\n",
      "3\n",
      "[array([ 1.65143805e-01, -7.93335605e-02,  6.93889390e-19,  1.50238624e-01,\n",
      "        1.47769586e-01, -3.30400957e-01]), array([ 0.14454178, -0.04168883,  1.15194764, -0.03582504,  1.01763943,\n",
      "       -0.13664354]), array([ 0.83976508, -0.76299429, -0.3773989 ,  1.10658517,  0.35429636,\n",
      "       -0.25847681]), array([ 0.49518756,  0.14207511, -0.34694144,  0.19335861,  0.21768019,\n",
      "       -0.25847681]), array([ 0.07310179, -0.99154124,  0.58515314,  0.05185167,  0.77789853,\n",
      "       -0.51912128]), array([-1.44153697, -0.30894864, -0.19062212,  0.05185167,  0.27708115,\n",
      "        0.61531319])]\n",
      "0.47032721931390753\n",
      "4\n",
      "[array([ 1.65143805e-01, -7.93335605e-02,  6.93889390e-19,  1.50238624e-01,\n",
      "        1.47769586e-01, -3.30400957e-01]), array([ 0.14454178, -0.04168883,  1.15194764, -0.03582504,  1.01763943,\n",
      "       -0.13664354]), array([ 0.83976508, -0.76299429, -0.3773989 ,  1.10658517,  0.35429636,\n",
      "       -0.25847681]), array([ 0.49518756,  0.14207511, -0.34694144,  0.19335861,  0.21768019,\n",
      "       -0.25847681]), array([ 0.07310179, -0.99154124,  0.58515314,  0.05185167,  0.77789853,\n",
      "       -0.51912128]), array([-1.44153697, -0.30894864, -0.19062212,  0.05185167,  0.27708115,\n",
      "        0.61531319]), array([ 0.14325984,  0.00735192, -0.2143192 ,  0.44133732,  0.07865619,\n",
      "        0.21500265]), array([ 0.01742474, -0.11451614, -0.01748464,  0.0284208 , -0.03525222,\n",
      "       -0.14040533])]\n",
      "0.45793745357272164\n",
      "5\n",
      "[array([ 1.65143805e-01, -7.93335605e-02,  6.93889390e-19,  1.50238624e-01,\n",
      "        1.47769586e-01, -3.30400957e-01]), array([ 0.14454178, -0.04168883,  1.15194764, -0.03582504,  1.01763943,\n",
      "       -0.13664354]), array([ 0.83976508, -0.76299429, -0.3773989 ,  1.10658517,  0.35429636,\n",
      "       -0.25847681]), array([ 0.49518756,  0.14207511, -0.34694144,  0.19335861,  0.21768019,\n",
      "       -0.25847681]), array([ 0.07310179, -0.99154124,  0.58515314,  0.05185167,  0.77789853,\n",
      "       -0.51912128]), array([-1.44153697, -0.30894864, -0.19062212,  0.05185167,  0.27708115,\n",
      "        0.61531319]), array([ 0.14325984,  0.00735192, -0.2143192 ,  0.44133732,  0.07865619,\n",
      "        0.21500265]), array([ 0.01742474, -0.11451614, -0.01748464,  0.0284208 , -0.03525222,\n",
      "       -0.14040533]), array([ 0.01866977,  0.00187545,  0.02744734,  0.07485968, -0.37030389,\n",
      "       -0.30770517]), array([-0.03528598,  0.00136301,  0.02744734, -0.01103095, -0.06406653,\n",
      "        0.31504984])]\n",
      "0.4019710372823825\n"
     ]
    }
   ],
   "source": [
    "layer_gates = []\n",
    "layer_weights = []\n",
    "cost_list = []\n",
    "for step in range(n_layer_steps):\n",
    "    \n",
    "    new_gates = [set_random_gates(n_qubits) for i in range(n_layers_to_add)]\n",
    "    init_params = np.zeros(n_qubits*n_layers_to_add)\n",
    "    \n",
    "    opt = qml.GradientDescentOptimizer(stepsize = 0.4)\n",
    "\n",
    "    opt_steps = 100\n",
    "\n",
    "    params = init_params\n",
    "    \n",
    "    for i in range(opt_steps):\n",
    "\n",
    "        params = opt.step(cost, params)\n",
    "    \n",
    "    \n",
    "    print(step)\n",
    "    print(layer_weights)\n",
    "    print(cost(params))\n",
    "    cost_list.append(cost(params))\n",
    "    \n",
    "    trained_weights = [params[int(i*n_qubits):int((i+1)*n_qubits)] for i in range(n_layers_to_add)]\n",
    "    \n",
    "    layer_gates += new_gates\n",
    "    layer_weights += trained_weights"
   ]
  },
  {
   "cell_type": "code",
   "execution_count": null,
   "metadata": {},
   "outputs": [],
   "source": [
    "layer_weights"
   ]
  }
 ],
 "metadata": {
  "kernelspec": {
   "display_name": "Python 3",
   "language": "python",
   "name": "python3"
  },
  "language_info": {
   "codemirror_mode": {
    "name": "ipython",
    "version": 3
   },
   "file_extension": ".py",
   "mimetype": "text/x-python",
   "name": "python",
   "nbconvert_exporter": "python",
   "pygments_lexer": "ipython3",
   "version": "3.6.8"
  }
 },
 "nbformat": 4,
 "nbformat_minor": 4
}
