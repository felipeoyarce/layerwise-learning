{
 "cells": [
  {
   "cell_type": "code",
   "execution_count": 1,
   "metadata": {},
   "outputs": [],
   "source": [
    "import random\n",
    "\n",
    "#Pennylane\n",
    "import pennylane as qml\n",
    "from pennylane import numpy as np\n",
    "\n",
    "#PyTorch\n",
    "import torch\n",
    "import torchvision\n",
    "from torchvision import datasets, transforms"
   ]
  },
  {
   "cell_type": "code",
   "execution_count": 2,
   "metadata": {},
   "outputs": [],
   "source": [
    "dev = qml.device('default.qubit', wires = 6)\n",
    "n_qubits = 6\n",
    "n_layer_steps = 5\n",
    "n_layers_to_add = 2\n",
    "dim = 2**(n_qubits)"
   ]
  },
  {
   "cell_type": "code",
   "execution_count": 3,
   "metadata": {},
   "outputs": [],
   "source": [
    "def set_random_gates(n_qubits: int):\n",
    "    \n",
    "    gate_set = [qml.RX, qml.RY, qml.RZ]\n",
    "    chosen_gates = []\n",
    "    for i in range(n_qubits):\n",
    "        chosen_gate = random.choice(gate_set)\n",
    "        chosen_gates.append(chosen_gate)\n",
    "    return chosen_gates\n",
    "\n",
    "def norm(complex_vector: np.array) -> float:\n",
    "    \"\"\"Returns the norm of a complex vector.\n",
    "    \n",
    "    Args:\n",
    "       complex_vector (np.arrray of shape (dim,)):\n",
    "           complex vector with an arbitrary dimension.\n",
    "           \n",
    "       \n",
    "    Returns:\n",
    "        norm (float): norm or magnitude of the complex vector.\n",
    "            \n",
    "    \"\"\"\n",
    "    \n",
    "    #define the norm of a complex vector here\n",
    "    norm = np.sqrt(sum([np.square(np.absolute(complex_vector[i])) for i in range(complex_vector.shape[0])]))\n",
    "    \n",
    "    return norm\n",
    "\n",
    "def random_quantum_state(dim: int, amplitude_type: str = 'complex') -> np.array:\n",
    "    \"\"\"Creates a normalized random real or complex vector of a defined\n",
    "    dimension.\n",
    "    \n",
    "    Args:\n",
    "        dim (int): integer number specifying the dimension\n",
    "            of the vector that we want to generate.\n",
    "            \n",
    "        amplitude_type (str): string indicating if you want to create a\n",
    "            vector with 'complex' or 'real' number amplitudes.\n",
    "            \n",
    "    Returns:\n",
    "        (np.array): normalized real or complex vector of the given\n",
    "            dimension.\n",
    "    \"\"\"\n",
    "    #generate an unnormalized complex vector of dimension = dim\n",
    "    if amplitude_type == 'complex':\n",
    "        Z = np.random.random(dim) + np.random.random(dim)*1j\n",
    "    \n",
    "    #generate an unnormalized real vector of dimension = dim\n",
    "    elif amplitude_type == 'real':\n",
    "        Z = np.random.random(dim)\n",
    "    \n",
    "    #normalize the complex vector Z\n",
    "    Z /= norm(Z)\n",
    "    \n",
    "    return Z\n",
    "\n",
    "def density_matrix(target_vector: np.array) -> np.array:\n",
    "    \"\"\"Return the density matrix of a pure state.\n",
    "    \n",
    "    Arguments:\n",
    "        target_vector (np.array): Complex vector array.\n",
    "        \n",
    "    Returns:\n",
    "        (np.array): Density matrix of shape (dim, dim),\n",
    "            where dim is the dimension of the target_vector.\n",
    "    \"\"\"\n",
    "    target_vector_reshape = target_vector.reshape((target_vector.shape[0],1))\n",
    "    density_matrix = target_vector_reshape @ np.transpose(np.conjugate(target_vector_reshape))\n",
    "    \n",
    "    return density_matrix"
   ]
  },
  {
   "cell_type": "code",
   "execution_count": 4,
   "metadata": {},
   "outputs": [],
   "source": [
    "target_vector = random_quantum_state(dim)\n",
    "density_matrix = density_matrix(target_vector)"
   ]
  },
  {
   "cell_type": "markdown",
   "metadata": {},
   "source": [
    "### Templates for Phase I"
   ]
  },
  {
   "cell_type": "code",
   "execution_count": 5,
   "metadata": {},
   "outputs": [],
   "source": [
    "@qml.template\n",
    "def apply_layer(gates, weights):\n",
    "    \n",
    "    for i in range(n_qubits):\n",
    "        gates[i](weights[i], wires = i)\n",
    "    \n",
    "    tuples = [(i,i+1) for i in range(n_qubits-1)]\n",
    "\n",
    "    for tup in tuples:\n",
    "        qml.CZ(wires=[tup[0], tup[1]])\n",
    "        \n",
    "@qml.template #template for non-trainable part of the quantum circuit\n",
    "def frozen_layers(frozen_layer_gates, frozen_layer_weights): \n",
    "\n",
    "    for i in range(len(frozen_layer_gates)):\n",
    "        apply_layer(frozen_layer_gates[i], frozen_layer_weights[i])\n",
    "\n",
    "@qml.qnode(dev)\n",
    "def trainable_circuit(params):\n",
    "    \n",
    "    #apply frozen layers\n",
    "    frozen_layers(layer_gates, layer_weights)\n",
    "    \n",
    "    #apply trainable layers\n",
    "    new_weights = []\n",
    "    for i in range(n_layers_to_add):\n",
    "        new_weights.append(params[int(i*n_qubits):int((i+1)*n_qubits)])\n",
    "\n",
    "    for i in range(n_layers_to_add):\n",
    "        apply_layer(new_gates[i], new_weights[i])\n",
    "        \n",
    "    wirelist = [i for i in range(n_qubits)]\n",
    "    return qml.expval(qml.Hermitian(density_matrix, wirelist))"
   ]
  },
  {
   "cell_type": "code",
   "execution_count": 6,
   "metadata": {},
   "outputs": [],
   "source": [
    "def cost(x):\n",
    "    \n",
    "    return (1.0 - trainable_circuit(x))"
   ]
  },
  {
   "cell_type": "code",
   "execution_count": 7,
   "metadata": {},
   "outputs": [
    {
     "data": {
      "text/plain": [
       "0.01374713353876375"
      ]
     },
     "execution_count": 7,
     "metadata": {},
     "output_type": "execute_result"
    }
   ],
   "source": [
    "layer_gates = []\n",
    "layer_weights = []\n",
    "n_layers = 2\n",
    "for i in range(n_layers):\n",
    "    layer_gates.append(set_random_gates(n_qubits))\n",
    "    layer_weights.append(np.random.rand(n_qubits)*2*np.pi)\n",
    "    \n",
    "new_gates = [set_random_gates(n_qubits) for i in range(n_layers_to_add)]\n",
    "params = np.random.rand(n_qubits*n_layers_to_add)*2*np.pi\n",
    "\n",
    "trainable_circuit(params)"
   ]
  },
  {
   "cell_type": "code",
   "execution_count": 8,
   "metadata": {
    "scrolled": false
   },
   "outputs": [
    {
     "name": "stdout",
     "output_type": "stream",
     "text": [
      "0\n",
      "[]\n",
      "0.9317305735831048\n",
      "1\n",
      "[array([ 7.69673318e-01, -1.73472348e-19, -3.83859768e-02, -6.03432977e-01,\n",
      "        8.97921509e-01,  1.37043155e-17]), array([-3.06979418e-02,  1.37043155e-17,  2.66409745e-01, -3.94280371e-01,\n",
      "       -5.14356222e-01,  5.20417043e-18])]\n",
      "0.6205918352252116\n",
      "2\n",
      "[array([ 7.69673318e-01, -1.73472348e-19, -3.83859768e-02, -6.03432977e-01,\n",
      "        8.97921509e-01,  1.37043155e-17]), array([-3.06979418e-02,  1.37043155e-17,  2.66409745e-01, -3.94280371e-01,\n",
      "       -5.14356222e-01,  5.20417043e-18]), array([-0.0187019 ,  1.49996171,  0.06708636, -0.75362004, -0.88631483,\n",
      "       -1.59089263]), array([-0.0187019 ,  0.19570302, -0.00970904, -0.32202753, -0.10775854,\n",
      "       -1.50223996])]\n",
      "0.40573461231631147\n",
      "3\n",
      "[array([ 7.69673318e-01, -1.73472348e-19, -3.83859768e-02, -6.03432977e-01,\n",
      "        8.97921509e-01,  1.37043155e-17]), array([-3.06979418e-02,  1.37043155e-17,  2.66409745e-01, -3.94280371e-01,\n",
      "       -5.14356222e-01,  5.20417043e-18]), array([-0.0187019 ,  1.49996171,  0.06708636, -0.75362004, -0.88631483,\n",
      "       -1.59089263]), array([-0.0187019 ,  0.19570302, -0.00970904, -0.32202753, -0.10775854,\n",
      "       -1.50223996]), array([-0.2843689 ,  0.07283752,  1.22818524, -0.08502467, -0.49958047,\n",
      "       -0.00137975]), array([-0.21136032,  0.0763717 , -0.09077486, -0.26967814,  0.03815027,\n",
      "       -0.07753407])]\n",
      "0.2481751277893699\n",
      "4\n",
      "[array([ 7.69673318e-01, -1.73472348e-19, -3.83859768e-02, -6.03432977e-01,\n",
      "        8.97921509e-01,  1.37043155e-17]), array([-3.06979418e-02,  1.37043155e-17,  2.66409745e-01, -3.94280371e-01,\n",
      "       -5.14356222e-01,  5.20417043e-18]), array([-0.0187019 ,  1.49996171,  0.06708636, -0.75362004, -0.88631483,\n",
      "       -1.59089263]), array([-0.0187019 ,  0.19570302, -0.00970904, -0.32202753, -0.10775854,\n",
      "       -1.50223996]), array([-0.2843689 ,  0.07283752,  1.22818524, -0.08502467, -0.49958047,\n",
      "       -0.00137975]), array([-0.21136032,  0.0763717 , -0.09077486, -0.26967814,  0.03815027,\n",
      "       -0.07753407]), array([ 0.66495403, -0.08256862, -0.0173323 ,  0.69236235, -0.03290571,\n",
      "       -0.10088109]), array([-0.17280674, -0.08199302, -0.0173323 ,  0.06627063,  0.04372958,\n",
      "       -0.00863183])]\n",
      "0.2284592400736627\n"
     ]
    }
   ],
   "source": [
    "layer_gates = []\n",
    "layer_weights = []\n",
    "cost_list = []\n",
    "for step in range(n_layer_steps):\n",
    "    \n",
    "    new_gates = [set_random_gates(n_qubits) for i in range(n_layers_to_add)]\n",
    "    init_params = np.zeros(n_qubits*n_layers_to_add)\n",
    "    \n",
    "    opt = qml.GradientDescentOptimizer(stepsize = 0.4)\n",
    "\n",
    "    opt_steps = 100\n",
    "\n",
    "    params = init_params\n",
    "    \n",
    "    for i in range(opt_steps):\n",
    "\n",
    "        params = opt.step(cost, params)\n",
    "    \n",
    "    \n",
    "    print(step)\n",
    "    print(layer_weights)\n",
    "    print(cost(params))\n",
    "    cost_list.append(cost(params))\n",
    "    \n",
    "    trained_weights = [params[int(i*n_qubits):int((i+1)*n_qubits)] for i in range(n_layers_to_add)]\n",
    "    \n",
    "    layer_gates += new_gates\n",
    "    layer_weights += trained_weights"
   ]
  },
  {
   "cell_type": "code",
   "execution_count": 9,
   "metadata": {},
   "outputs": [
    {
     "data": {
      "text/plain": [
       "[array([ 7.69673318e-01, -1.73472348e-19, -3.83859768e-02, -6.03432977e-01,\n",
       "         8.97921509e-01,  1.37043155e-17]),\n",
       " array([-3.06979418e-02,  1.37043155e-17,  2.66409745e-01, -3.94280371e-01,\n",
       "        -5.14356222e-01,  5.20417043e-18]),\n",
       " array([-0.0187019 ,  1.49996171,  0.06708636, -0.75362004, -0.88631483,\n",
       "        -1.59089263]),\n",
       " array([-0.0187019 ,  0.19570302, -0.00970904, -0.32202753, -0.10775854,\n",
       "        -1.50223996]),\n",
       " array([-0.2843689 ,  0.07283752,  1.22818524, -0.08502467, -0.49958047,\n",
       "        -0.00137975]),\n",
       " array([-0.21136032,  0.0763717 , -0.09077486, -0.26967814,  0.03815027,\n",
       "        -0.07753407]),\n",
       " array([ 0.66495403, -0.08256862, -0.0173323 ,  0.69236235, -0.03290571,\n",
       "        -0.10088109]),\n",
       " array([-0.17280674, -0.08199302, -0.0173323 ,  0.06627063,  0.04372958,\n",
       "        -0.00863183]),\n",
       " array([-0.00329073,  0.24316542,  0.05797488, -0.06154597, -0.14463247,\n",
       "        -0.00138564]),\n",
       " array([-0.16336786,  0.02324465, -0.01112188, -0.06154597, -0.14463247,\n",
       "        -0.00138564])]"
      ]
     },
     "execution_count": 9,
     "metadata": {},
     "output_type": "execute_result"
    }
   ],
   "source": [
    "layer_weights"
   ]
  },
  {
   "cell_type": "markdown",
   "metadata": {},
   "source": [
    "### Phase II"
   ]
  },
  {
   "cell_type": "code",
   "execution_count": 10,
   "metadata": {},
   "outputs": [],
   "source": [
    "partition_percentage = 0.5\n",
    "partition_size = int(n_layer_steps*n_layers_to_add*partition_percentage)\n",
    "n_partition_weights = partition_size*n_qubits\n",
    "n_sweeps = 2"
   ]
  },
  {
   "cell_type": "code",
   "execution_count": 11,
   "metadata": {},
   "outputs": [
    {
     "name": "stdout",
     "output_type": "stream",
     "text": [
      "[array([ 7.69673318e-01, -1.73472348e-19, -3.83859768e-02, -6.03432977e-01,\n",
      "        8.97921509e-01,  1.37043155e-17]), array([-3.06979418e-02,  1.37043155e-17,  2.66409745e-01, -3.94280371e-01,\n",
      "       -5.14356222e-01,  5.20417043e-18]), array([-0.0187019 ,  1.49996171,  0.06708636, -0.75362004, -0.88631483,\n",
      "       -1.59089263]), array([-0.0187019 ,  0.19570302, -0.00970904, -0.32202753, -0.10775854,\n",
      "       -1.50223996]), array([-0.2843689 ,  0.07283752,  1.22818524, -0.08502467, -0.49958047,\n",
      "       -0.00137975])]\n",
      "30\n",
      "5\n"
     ]
    }
   ],
   "source": [
    "print(layer_weights[:5])\n",
    "print(n_partition_weights)\n",
    "print(partition_size)"
   ]
  },
  {
   "cell_type": "code",
   "execution_count": 12,
   "metadata": {},
   "outputs": [],
   "source": [
    "#trainable_layers = layer_gates[:partition_size]\n",
    "#trainable_weights = layer_weights[:partition_size]\n",
    "#weights_flatten = np.concatenate(trainable_weights).ravel()\n",
    "\n",
    "#is going to depend on the part of the circuit\n",
    "@qml.qnode(dev)\n",
    "def trainable_partition(params):\n",
    "    \n",
    "    if partition == 1:\n",
    "        #apply trainable partition\n",
    "        weights = []\n",
    "        for i in range(partition_size):\n",
    "            weights.append(params[int(i*n_qubits):int((i+1)*n_qubits)])\n",
    "        \n",
    "        for i in range(len(layer_gates[:partition_size])):\n",
    "            apply_layer(layer_gates[:partition_size][i], weights[i])\n",
    "            \n",
    "        #apply non-trainable partition\n",
    "        for i in range(len(layer_gates[partition_size:])):\n",
    "            apply_layer(layer_gates[partition_size:][i], layer_weights[partition_size:][i])\n",
    "        \n",
    "    elif partition == 2:\n",
    "        #apply non-trainable partition\n",
    "        for i in range(len(layer_gates[:partition_size])):\n",
    "            apply_layer(layer_gates[:partition_size][i], layer_weights[:partition_size][i])\n",
    "    \n",
    "        #apply trainable partition\n",
    "        weights = []\n",
    "        for i in range(partition_size):\n",
    "            weights.append(params[int(i*n_qubits):int((i+1)*n_qubits)])\n",
    "        \n",
    "        for i in range(len(layer_gates[partition_size:])):\n",
    "            apply_layer(layer_gates[partition_size:][i], weights[i])\n",
    "            \n",
    "    wirelist = [i for i in range(n_qubits)]\n",
    "    return qml.expval(qml.Hermitian(density_matrix, wirelist))"
   ]
  },
  {
   "cell_type": "code",
   "execution_count": 13,
   "metadata": {},
   "outputs": [],
   "source": [
    "def cost(x):\n",
    "    \n",
    "    return (1.0 - trainable_partition(x))"
   ]
  },
  {
   "cell_type": "code",
   "execution_count": 14,
   "metadata": {},
   "outputs": [
    {
     "name": "stdout",
     "output_type": "stream",
     "text": [
      "0.1985755684338678\n",
      "0.1806385972353235\n",
      "0.1770539686496082\n",
      "0.17296867027479135\n"
     ]
    }
   ],
   "source": [
    "for sweep in range(n_sweeps):\n",
    "    \n",
    "    partition = 1\n",
    "    trainable_weights = layer_weights[:partition_size]\n",
    "\n",
    "    init_params = np.concatenate(trainable_weights).ravel()\n",
    "    \n",
    "    opt = qml.GradientDescentOptimizer(stepsize = 0.4)\n",
    "\n",
    "    opt_steps = 100\n",
    "\n",
    "    params = init_params\n",
    "    \n",
    "    for i in range(opt_steps):\n",
    "\n",
    "        params = opt.step(cost, params)\n",
    "        \n",
    "    trained_weights = [params[int(i*n_qubits):int((i+1)*n_qubits)] for i in range(partition_size)]\n",
    "    \n",
    "    layer_weights[:partition_size] = trained_weights\n",
    "    \n",
    "    print(cost(params))\n",
    "\n",
    "    partition = 2\n",
    "    trainable_weights = layer_weights[partition_size:]\n",
    "\n",
    "    init_params = np.concatenate(trainable_weights).ravel()\n",
    "    \n",
    "    opt = qml.GradientDescentOptimizer(stepsize = 0.4)\n",
    "\n",
    "    opt_steps = 100\n",
    "\n",
    "    params = init_params\n",
    "    \n",
    "    for i in range(opt_steps):\n",
    "\n",
    "        params = opt.step(cost, params)\n",
    "        \n",
    "    trained_weights = [params[int(i*n_qubits):int((i+1)*n_qubits)] for i in range(partition_size)]\n",
    "    \n",
    "    layer_weights[partition_size:] = trained_weights\n",
    "    \n",
    "    print(cost(params))"
   ]
  },
  {
   "cell_type": "markdown",
   "metadata": {},
   "source": [
    "### Complete-depth learning"
   ]
  },
  {
   "cell_type": "code",
   "execution_count": 15,
   "metadata": {},
   "outputs": [],
   "source": [
    "@qml.qnode(dev)\n",
    "def complete_depth_learning(params):\n",
    "    \n",
    "    weights = [params[int(i*n_qubits):int((i+1)*n_qubits)] for i in range(len(layer_gates))]\n",
    "    \n",
    "    for i in range(len(layer_gates)):\n",
    "        apply_layer(layer_gates[i], weights[i])\n",
    "        \n",
    "    wirelist = [i for i in range(n_qubits)]\n",
    "    return qml.expval(qml.Hermitian(density_matrix, wirelist))"
   ]
  },
  {
   "cell_type": "code",
   "execution_count": 16,
   "metadata": {},
   "outputs": [],
   "source": [
    "def cost(x):\n",
    "    \n",
    "    return (1.0 - complete_depth_learning(x))"
   ]
  },
  {
   "cell_type": "code",
   "execution_count": 17,
   "metadata": {},
   "outputs": [
    {
     "name": "stdout",
     "output_type": "stream",
     "text": [
      "0.18045729965972834\n"
     ]
    }
   ],
   "source": [
    "init_params = np.zeros(n_qubits*len(layer_gates))\n",
    "    \n",
    "opt = qml.GradientDescentOptimizer(stepsize = 0.4)\n",
    "\n",
    "opt_steps = 100\n",
    "\n",
    "params = init_params\n",
    "\n",
    "for i in range(opt_steps):\n",
    "\n",
    "    params = opt.step(cost, params)\n",
    "\n",
    "print(cost(params))"
   ]
  }
 ],
 "metadata": {
  "kernelspec": {
   "display_name": "Python 3",
   "language": "python",
   "name": "python3"
  },
  "language_info": {
   "codemirror_mode": {
    "name": "ipython",
    "version": 3
   },
   "file_extension": ".py",
   "mimetype": "text/x-python",
   "name": "python",
   "nbconvert_exporter": "python",
   "pygments_lexer": "ipython3",
   "version": "3.6.8"
  }
 },
 "nbformat": 4,
 "nbformat_minor": 4
}
