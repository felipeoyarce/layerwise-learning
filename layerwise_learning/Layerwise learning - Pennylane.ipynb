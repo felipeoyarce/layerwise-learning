{
 "cells": [
  {
   "cell_type": "code",
   "execution_count": 1,
   "metadata": {},
   "outputs": [],
   "source": [
    "import pennylane as qml\n",
    "from pennylane import numpy as np\n",
    "import torch\n",
    "import sympy\n",
    "import cirq\n",
    "import random"
   ]
  },
  {
   "cell_type": "code",
   "execution_count": 2,
   "metadata": {},
   "outputs": [],
   "source": [
    "def create_layer(qubits, layer_id):\n",
    "    symbols = [sympy.Symbol(layer_id + '-' + str(i)) for i in range(len(qubits))]\n",
    "    \n",
    "    return symbols"
   ]
  },
  {
   "cell_type": "code",
   "execution_count": 3,
   "metadata": {},
   "outputs": [
    {
     "data": {
      "text/plain": [
       "[cirq.GridQubit(0, 0),\n",
       " cirq.GridQubit(0, 1),\n",
       " cirq.GridQubit(0, 2),\n",
       " cirq.GridQubit(0, 3),\n",
       " cirq.GridQubit(0, 4),\n",
       " cirq.GridQubit(0, 5)]"
      ]
     },
     "execution_count": 3,
     "metadata": {},
     "output_type": "execute_result"
    }
   ],
   "source": [
    "n_qubits = 6\n",
    "data_qubits = cirq.GridQubit.rect(1, n_qubits)\n",
    "data_qubits"
   ]
  },
  {
   "cell_type": "markdown",
   "metadata": {},
   "source": [
    "### Phase I"
   ]
  },
  {
   "cell_type": "code",
   "execution_count": 4,
   "metadata": {},
   "outputs": [],
   "source": [
    "def create_layer(qubits, layer_id):\n",
    "    symbols = [sympy.Symbol(layer_id + '-' + str(i)) for i in range(len(qubits))]\n",
    "    gate_set = [cirq.rx, cirq.ry, cirq.rz]\n",
    "\n",
    "    gates = []\n",
    "    symbol_gates = []\n",
    "    for i, q in enumerate(qubits):\n",
    "        chosen_gate = random.choice(gate_set)\n",
    "        gates.append(chosen_gate(0)(q))\n",
    "        symbol_gates.append(chosen_gate(symbols[i])(q))\n",
    "\n",
    "    for control, target in zip(qubits, qubits[1:]):\n",
    "        gates.append(cirq.CZ(control, target))\n",
    "        symbol_gates.append(cirq.CZ(control, target))\n",
    "\n",
    "    return gates, symbol_gates, symbols"
   ]
  },
  {
   "cell_type": "code",
   "execution_count": 5,
   "metadata": {},
   "outputs": [],
   "source": [
    "dev = qml.device('default.qubit', wires = 6)"
   ]
  },
  {
   "cell_type": "code",
   "execution_count": 6,
   "metadata": {},
   "outputs": [],
   "source": [
    "n_qubits = 6\n",
    "@qml.qnode(dev)\n",
    "def layer(params: np.array):\n",
    "    gate_set = [qml.RX, qml.RY, qml.RZ]\n",
    "    \n",
    "    for i in range(n_qubits):\n",
    "        chosen_gate = random.choice(gate_set)\n",
    "        chosen_gate(params[i], wires = i)\n",
    "        \n",
    "    tuples = [(i,i+1) for i in range(n_qubits-1)]\n",
    "\n",
    "    for tup in tuples:\n",
    "        qml.CZ(wires=[tup[0], tup[1]])\n",
    "        \n",
    "    return qml.expval(qml.PauliZ(1))"
   ]
  }
 ],
 "metadata": {
  "kernelspec": {
   "display_name": "Python 3",
   "language": "python",
   "name": "python3"
  },
  "language_info": {
   "codemirror_mode": {
    "name": "ipython",
    "version": 3
   },
   "file_extension": ".py",
   "mimetype": "text/x-python",
   "name": "python",
   "nbconvert_exporter": "python",
   "pygments_lexer": "ipython3",
   "version": "3.6.8"
  }
 },
 "nbformat": 4,
 "nbformat_minor": 4
}
